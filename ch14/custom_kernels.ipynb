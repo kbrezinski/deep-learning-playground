{
 "cells": [
  {
   "cell_type": "code",
   "execution_count": 2,
   "metadata": {},
   "outputs": [],
   "source": [
    "import torch"
   ]
  },
  {
   "cell_type": "code",
   "execution_count": 14,
   "metadata": {},
   "outputs": [
    {
     "name": "stdout",
     "output_type": "stream",
     "text": [
      "torch.Size([1, 7])\n",
      "torch.Size([1, 3, 3])\n"
     ]
    }
   ],
   "source": [
    "# (1, W)\n",
    "img1d = torch.Tensor(\n",
    "    [1., 2., 0., 1., 2., 0., 1.]).unsqueeze(0)\n",
    "\n",
    "# (1, H, W)\n",
    "img2d = torch.Tensor([\n",
    "    [1., 0., 1.],\n",
    "    [2., 1., 1.],\n",
    "    [3., 1., 0.] ]).unsqueeze(0)\n",
    "\n",
    "print(img1d.shape)\n",
    "print(img2d.shape)"
   ]
  },
  {
   "cell_type": "code",
   "execution_count": 57,
   "metadata": {},
   "outputs": [
    {
     "name": "stdout",
     "output_type": "stream",
     "text": [
      "tensor([[[[3., 4.],\n",
      "          [8., 5.]]]])\n",
      "tensor([[[[2., 3.],\n",
      "          [0., 1.]]]])\n"
     ]
    }
   ],
   "source": [
    "# create kernels\n",
    "# (out, in_channels / groups, kernel_width, kernel_height)\n",
    "k1d = torch.randn(8, 1, 3)\n",
    "k2d = torch.randint(0, 4, size=(1, 1, 2, 2)).float()\n",
    "\n",
    "# input = (1, in_channels, W)\n",
    "torch.nn.functional.conv1d(img1d.unsqueeze(0), k1d)\n",
    "# output (1, out_channels, oW)\n",
    "\n",
    "# input = (1, in_channels, H, W)\n",
    "print(torch.nn.functional.conv2d(img2d.unsqueeze(0), k2d))\n",
    "print(k2d)\n",
    "# output (1, out_channels, oH, oW)"
   ]
  },
  {
   "cell_type": "code",
   "execution_count": null,
   "metadata": {},
   "outputs": [],
   "source": []
  }
 ],
 "metadata": {
  "kernelspec": {
   "display_name": "Python [conda env:py39]",
   "language": "python",
   "name": "conda-env-py39-py"
  },
  "language_info": {
   "codemirror_mode": {
    "name": "ipython",
    "version": 3
   },
   "file_extension": ".py",
   "mimetype": "text/x-python",
   "name": "python",
   "nbconvert_exporter": "python",
   "pygments_lexer": "ipython3",
   "version": "3.9.10"
  }
 },
 "nbformat": 4,
 "nbformat_minor": 4
}
