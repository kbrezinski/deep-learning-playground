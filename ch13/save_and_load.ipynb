{
 "cells": [
  {
   "cell_type": "code",
   "execution_count": 34,
   "metadata": {},
   "outputs": [],
   "source": [
    "import torch\n",
    "import torch.nn as nn\n",
    "import git\n",
    "import os\n",
    "\n",
    "from torch.optim import SGD"
   ]
  },
  {
   "cell_type": "code",
   "execution_count": 35,
   "metadata": {},
   "outputs": [
    {
     "data": {
      "text/plain": [
       "'D:\\\\Backups\\\\Code\\\\Github Projects\\\\stat-453-deep-learning\\\\ch13\\\\checkpoints'"
      ]
     },
     "execution_count": 35,
     "metadata": {},
     "output_type": "execute_result"
    }
   ],
   "source": [
    "CHECKPOINTS_PATH = os.path.join(os.getcwd(), 'checkpoints')\n",
    "os.makedirs(CHECKPOINTS_PATH, exist_ok=True)\n",
    "CHECKPOINTS_PATH"
   ]
  },
  {
   "cell_type": "code",
   "execution_count": 30,
   "metadata": {},
   "outputs": [],
   "source": [
    "X = torch.rand(10, 10)\n",
    "y = torch.add(X, 2.)\n",
    "cfg = dict(d_in=10, d_hidden=8)\n",
    "\n",
    "model = torch.nn.Sequential(nn.Linear(cfg['d_in'], cfg['d_hidden']),\n",
    "                            nn.ReLU(),\n",
    "                            nn.Linear(cfg['d_hidden'], 1),\n",
    "                            nn.ReLU())\n",
    "\n",
    "optimizer = SGD(model.parameters(), lr=1e-2)"
   ]
  },
  {
   "cell_type": "code",
   "execution_count": 36,
   "metadata": {},
   "outputs": [],
   "source": [
    "def get_training_state(cfg, model):\n",
    "    training_state = {\n",
    "        \"commit_hash\": git.Repo(search_parent_directories=True).head.object.hexsha,\n",
    "\n",
    "        # Model structure\n",
    "        \"d_in\": d_in,\n",
    "        \"d_out\": d_hidden,\n",
    "\n",
    "        # Model state\n",
    "        \"state_dict\": model.state_dict()\n",
    "    }\n",
    "\n",
    "    return training_state"
   ]
  },
  {
   "cell_type": "code",
   "execution_count": 39,
   "metadata": {},
   "outputs": [],
   "source": [
    "torch.save(get_training_state(cfg, model),\n",
    "           os.path.join(CHECKPOINTS_PATH, 'my_checkpoint.pth'))"
   ]
  },
  {
   "cell_type": "code",
   "execution_count": 42,
   "metadata": {},
   "outputs": [
    {
     "data": {
      "text/plain": [
       "<All keys matched successfully>"
      ]
     },
     "execution_count": 42,
     "metadata": {},
     "output_type": "execute_result"
    }
   ],
   "source": [
    "model.load_state_dict(torch.load(os.path.join(CHECKPOINTS_PATH, 'my_checkpoint.pth'))['state_dict'])"
   ]
  },
  {
   "cell_type": "code",
   "execution_count": null,
   "metadata": {},
   "outputs": [],
   "source": []
  }
 ],
 "metadata": {
  "kernelspec": {
   "display_name": "Python [conda env:py39]",
   "language": "python",
   "name": "conda-env-py39-py"
  },
  "language_info": {
   "codemirror_mode": {
    "name": "ipython",
    "version": 3
   },
   "file_extension": ".py",
   "mimetype": "text/x-python",
   "name": "python",
   "nbconvert_exporter": "python",
   "pygments_lexer": "ipython3",
   "version": "3.9.10"
  }
 },
 "nbformat": 4,
 "nbformat_minor": 4
}
