{
 "cells": [
  {
   "cell_type": "code",
   "execution_count": 7,
   "id": "a5aed56a-3358-4d3d-bcc8-0f67aaa12966",
   "metadata": {},
   "outputs": [],
   "source": [
    "from sklearn import datasets\n",
    "from sklearn.model_selection import train_test_split\n",
    "\n",
    "import numpy as np"
   ]
  },
  {
   "cell_type": "code",
   "execution_count": 33,
   "id": "095dc9f4-e48b-497b-b873-b7778214481f",
   "metadata": {},
   "outputs": [],
   "source": [
    "iris = datasets.load_iris()\n",
    "X = iris.data #[:, [2, 3]]\n",
    "y = iris.target"
   ]
  },
  {
   "cell_type": "code",
   "execution_count": 9,
   "id": "17687d1d-9c8b-4ff0-988c-e3d2aefe5b90",
   "metadata": {},
   "outputs": [],
   "source": [
    "X_train, X_test, y_train, y_test = train_test_split(\n",
    "    X, y, test_size=.3, random_state=1, stratify=y\n",
    ")"
   ]
  },
  {
   "cell_type": "code",
   "execution_count": 12,
   "id": "027cd1c5-17b1-46aa-a833-2c6550c6b7d8",
   "metadata": {},
   "outputs": [],
   "source": [
    "import matplotlib.pyplot as plt\n",
    "\n",
    "from sklearn.tree import DecisionTreeClassifier"
   ]
  },
  {
   "cell_type": "code",
   "execution_count": 73,
   "id": "4d3f9766-3f41-464f-bcfd-4fe67394a1bc",
   "metadata": {},
   "outputs": [
    {
     "name": "stdout",
     "output_type": "stream",
     "text": [
      "[ 0  6 49]\n",
      "[ 0 44  1]\n",
      "gain=0.44999999999999996\n"
     ]
    }
   ],
   "source": [
    "def entropy(x):\n",
    "    p = np.bincount(x) / len(x)\n",
    "    p = p[p > 0]\n",
    "    return -np.sum(p * np.log2(p))\n",
    "\n",
    "def gini(x):\n",
    "    p = np.bincount(x) / len(x)\n",
    "    p = p[p > 0]\n",
    "    return 1 - np.sum(p ** 2)\n",
    "\n",
    "def err(x):\n",
    "    p = np.bincount(x) / len(x)\n",
    "    return 1 - np.max(p)\n",
    "\n",
    "''' \n",
    "'feature_names': ['sepal length (cm)',\n",
    "  'sepal width (cm)',\n",
    "  'petal length (cm)',\n",
    "  'petal width (cm)'] '''\n",
    "\n",
    "def get_entropy(X, y, feature=2, split=4.75, criterion='entropy'):\n",
    "    \n",
    "    if criterion == 'entropy':\n",
    "        criterion = entropy \n",
    "    elif criterion == 'gini':\n",
    "        criterion = gini\n",
    "    else:\n",
    "        criterion = err\n",
    "    \n",
    "    parent_entropy = criterion(y)\n",
    "    parent_size = len(y)\n",
    "\n",
    "    child_true = y[X[:, feature] >= split]\n",
    "    child_false = y[X[:, feature] < split]\n",
    "    \n",
    "    entropy_true = criterion(child_true)\n",
    "    print(np.bincount(child_true))\n",
    "    \n",
    "    entropy_false = criterion(child_false)\n",
    "    print(np.bincount(child_false))\n",
    "    \n",
    "    gain = parent_entropy - (len(child_true) / parent_size * entropy_true) + (len(child_false) / parent_size * entropy_false)\n",
    "    print(f\"{gain=}\")\n",
    "    \n",
    "x_new = X[X[:, 3] >= .75]\n",
    "y_new = y[X[:, 3] >= .75]\n",
    "    \n",
    "get_entropy(x_new, y_new, criterion='err')"
   ]
  },
  {
   "cell_type": "code",
   "execution_count": null,
   "id": "66d65057-f3a7-4434-a069-bc2afb9e1a42",
   "metadata": {},
   "outputs": [],
   "source": [
    "tree = DecisionTreeClassifier(criterion='entropy',\n",
    "                              max_depth=2,\n",
    "                              random_state=1)\n",
    "\n",
    "tree.fit(X_train, y_train)\n",
    "tree.predict(X_test, y_test)"
   ]
  }
 ],
 "metadata": {
  "kernelspec": {
   "display_name": "Python 3 (ipykernel)",
   "language": "python",
   "name": "python3"
  },
  "language_info": {
   "codemirror_mode": {
    "name": "ipython",
    "version": 3
   },
   "file_extension": ".py",
   "mimetype": "text/x-python",
   "name": "python",
   "nbconvert_exporter": "python",
   "pygments_lexer": "ipython3",
   "version": "3.9.12"
  }
 },
 "nbformat": 4,
 "nbformat_minor": 5
}
