{
 "cells": [
  {
   "cell_type": "code",
   "execution_count": 1,
   "id": "f42c2f73-8bf3-4c54-8cee-e49b2f0d85e1",
   "metadata": {},
   "outputs": [],
   "source": [
    "import numpy as np"
   ]
  },
  {
   "cell_type": "markdown",
   "id": "773ea64d-dc40-4d4b-a7ef-f2e005cf9c47",
   "metadata": {},
   "source": [
    "## $x^Tw$ ##"
   ]
  },
  {
   "cell_type": "code",
   "execution_count": 5,
   "id": "77aa3bc2-a6e3-4ff3-97bd-4f255008dc5d",
   "metadata": {},
   "outputs": [
    {
     "name": "stdout",
     "output_type": "stream",
     "text": [
      "706 ns ± 18.5 ns per loop (mean ± std. dev. of 7 runs, 1,000,000 loops each)\n"
     ]
    }
   ],
   "source": [
    "a = np.arange(1e3)\n",
    "b = np.arange(1e3)\n",
    "\n",
    "%timeit a.dot(b)"
   ]
  },
  {
   "cell_type": "code",
   "execution_count": 14,
   "id": "07afed7b-a587-4ceb-80f2-33ab8b0ede38",
   "metadata": {},
   "outputs": [
    {
     "data": {
      "text/plain": [
       "dtype('int32')"
      ]
     },
     "execution_count": 14,
     "metadata": {},
     "output_type": "execute_result"
    }
   ],
   "source": [
    "X = np.array([[1, 2, 3], [4, 5, 6]])\n",
    "X.dtype"
   ]
  },
  {
   "cell_type": "code",
   "execution_count": 15,
   "id": "e275afaf-51c1-4f41-a7d6-4e9829cae32c",
   "metadata": {},
   "outputs": [
    {
     "data": {
      "text/plain": [
       "array([[1., 0., 0.],\n",
       "       [0., 1., 0.],\n",
       "       [0., 0., 1.]])"
      ]
     },
     "execution_count": 15,
     "metadata": {},
     "output_type": "execute_result"
    }
   ],
   "source": [
    "np.eye(3)"
   ]
  },
  {
   "cell_type": "code",
   "execution_count": 24,
   "id": "ea9bd768-f6d7-4002-ac19-05578553f735",
   "metadata": {},
   "outputs": [],
   "source": [
    "arr = np.array([[3., 2., 1], [4., 5., 6.]])"
   ]
  },
  {
   "cell_type": "code",
   "execution_count": 29,
   "id": "a4619514-21d4-4370-baa7-4664bc4ea9cc",
   "metadata": {},
   "outputs": [
    {
     "data": {
      "text/plain": [
       "21.0"
      ]
     },
     "execution_count": 29,
     "metadata": {},
     "output_type": "execute_result"
    }
   ],
   "source": [
    "arr.sum()"
   ]
  },
  {
   "cell_type": "markdown",
   "id": "98f712bd-3db3-4893-bc80-7d9403e67d8d",
   "metadata": {},
   "source": [
    "## Broadcasting ##"
   ]
  },
  {
   "cell_type": "code",
   "execution_count": 45,
   "id": "6641955e-3839-414c-ab80-4d6b47603a61",
   "metadata": {},
   "outputs": [],
   "source": [
    "arr = np.array([[1, 2, 3], [4, 5, 6]])\n",
    "new_arr = arr[0].copy()\n",
    "new_arr += 99"
   ]
  },
  {
   "cell_type": "code",
   "execution_count": 47,
   "id": "27820921-1558-408b-bf9f-a5c238f2299f",
   "metadata": {},
   "outputs": [
    {
     "data": {
      "text/plain": [
       "array([100, 101, 102])"
      ]
     },
     "execution_count": 47,
     "metadata": {},
     "output_type": "execute_result"
    }
   ],
   "source": [
    "new_arr"
   ]
  },
  {
   "cell_type": "code",
   "execution_count": 48,
   "id": "731eb7a9-d3d8-497f-88fe-11ae4fc5f1f1",
   "metadata": {},
   "outputs": [
    {
     "data": {
      "text/plain": [
       "array([1, 2, 3, 4, 5, 6])"
      ]
     },
     "execution_count": 48,
     "metadata": {},
     "output_type": "execute_result"
    }
   ],
   "source": [
    "arr.reshape(-1)"
   ]
  },
  {
   "cell_type": "code",
   "execution_count": 49,
   "id": "1290a340-d1ec-4189-bcb8-45b74b15b4c8",
   "metadata": {},
   "outputs": [
    {
     "data": {
      "text/plain": [
       "array([1, 2, 3, 4, 5, 6])"
      ]
     },
     "execution_count": 49,
     "metadata": {},
     "output_type": "execute_result"
    }
   ],
   "source": [
    "arr.flatten()"
   ]
  },
  {
   "cell_type": "code",
   "execution_count": 50,
   "id": "c082aebc-6014-48a4-8c4f-f7fcef65c830",
   "metadata": {},
   "outputs": [
    {
     "data": {
      "text/plain": [
       "array([1, 2, 3, 4, 5, 6])"
      ]
     },
     "execution_count": 50,
     "metadata": {},
     "output_type": "execute_result"
    }
   ],
   "source": [
    "arr.ravel()"
   ]
  },
  {
   "cell_type": "code",
   "execution_count": 56,
   "id": "4c04942b-bd5b-43ff-80c9-1e5aeac8e5ff",
   "metadata": {},
   "outputs": [
    {
     "data": {
      "text/plain": [
       "array([[1, 2, 3, 1, 2, 3],\n",
       "       [4, 5, 6, 4, 5, 6]])"
      ]
     },
     "execution_count": 56,
     "metadata": {},
     "output_type": "execute_result"
    }
   ],
   "source": [
    "np.concatenate([arr, arr], axis=1)"
   ]
  },
  {
   "cell_type": "code",
   "execution_count": 66,
   "id": "79538599-4ca4-474b-af27-7c6c78ab9b67",
   "metadata": {},
   "outputs": [
    {
     "data": {
      "text/plain": [
       "array([1, 2])"
      ]
     },
     "execution_count": 66,
     "metadata": {},
     "output_type": "execute_result"
    }
   ],
   "source": [
    "arr[~(arr > 2)]"
   ]
  },
  {
   "cell_type": "code",
   "execution_count": null,
   "id": "441325dc-ae2a-4a54-9c3a-d895a657eb86",
   "metadata": {},
   "outputs": [],
   "source": []
  }
 ],
 "metadata": {
  "kernelspec": {
   "display_name": "Python 3 (ipykernel)",
   "language": "python",
   "name": "python3"
  },
  "language_info": {
   "codemirror_mode": {
    "name": "ipython",
    "version": 3
   },
   "file_extension": ".py",
   "mimetype": "text/x-python",
   "name": "python",
   "nbconvert_exporter": "python",
   "pygments_lexer": "ipython3",
   "version": "3.9.12"
  }
 },
 "nbformat": 4,
 "nbformat_minor": 5
}
