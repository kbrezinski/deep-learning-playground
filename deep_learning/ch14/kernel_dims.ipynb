{
 "cells": [
  {
   "cell_type": "code",
   "execution_count": 1,
   "metadata": {},
   "outputs": [],
   "source": [
    "import torch"
   ]
  },
  {
   "cell_type": "code",
   "execution_count": 4,
   "metadata": {},
   "outputs": [],
   "source": [
    "# (1, H, W)\n",
    "img = torch.Tensor([\n",
    "    [1., 0., 1.],\n",
    "    [2., 1., 1.],\n",
    "    [3., 1., 0.] ])"
   ]
  },
  {
   "cell_type": "code",
   "execution_count": 22,
   "metadata": {},
   "outputs": [
    {
     "name": "stdout",
     "output_type": "stream",
     "text": [
      "torch.Size([1, 16, 2, 2]) torch.Size([16, 1, 2, 2])\n",
      "torch.Size([1, 8, 1, 1]) torch.Size([8, 16, 2, 2])\n"
     ]
    }
   ],
   "source": [
    "conv1 = torch.nn.Conv2d(1, 16, kernel_size=2)\n",
    "conv2 = torch.nn.Conv2d(16, 8, kernel_size=2)\n",
    "\n",
    "x1 = conv1(img.view(1, 1, 3, 3))\n",
    "\n",
    "# params = (in_channels, out_channels, kW, kH)\n",
    "print(x1.shape, conv1.weight.shape)\n",
    "x2 = conv2(x1)\n",
    "print(x2.shape, conv2.weight.shape)"
   ]
  },
  {
   "cell_type": "code",
   "execution_count": null,
   "metadata": {},
   "outputs": [],
   "source": []
  }
 ],
 "metadata": {
  "kernelspec": {
   "display_name": "Python [conda env:py39]",
   "language": "python",
   "name": "conda-env-py39-py"
  },
  "language_info": {
   "codemirror_mode": {
    "name": "ipython",
    "version": 3
   },
   "file_extension": ".py",
   "mimetype": "text/x-python",
   "name": "python",
   "nbconvert_exporter": "python",
   "pygments_lexer": "ipython3",
   "version": "3.9.10"
  }
 },
 "nbformat": 4,
 "nbformat_minor": 4
}
