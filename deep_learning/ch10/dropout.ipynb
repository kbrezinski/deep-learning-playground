{
 "cells": [
  {
   "cell_type": "code",
   "execution_count": 49,
   "metadata": {},
   "outputs": [],
   "source": [
    "import torch\n",
    "import torch.nn as nn\n",
    "\n",
    "Tensor = torch.tensor"
   ]
  },
  {
   "cell_type": "code",
   "execution_count": 82,
   "metadata": {},
   "outputs": [
    {
     "data": {
      "text/plain": [
       "tensor([[-3.3139, -0.0000, -2.3132, -0.1103,  2.0004],\n",
       "        [ 0.0000,  0.0000,  3.5121,  0.0000, -2.7543],\n",
       "        [ 0.0000, -0.0000,  1.7840, -0.0000,  4.1856],\n",
       "        [ 0.0000, -2.7304, -3.1366,  1.1686,  0.0000],\n",
       "        [-0.7662, -1.8105, -0.0000,  0.0000, -0.0000],\n",
       "        [ 0.0000, -0.0000, -1.7182, -0.1936, -1.9255],\n",
       "        [ 0.0000, -1.3654, -0.7553, -0.0000, -0.0000],\n",
       "        [ 2.3619, -0.0000,  1.0333,  0.9807,  1.0522],\n",
       "        [ 0.0000,  0.0000, -1.4827, -1.3876, -0.0000],\n",
       "        [ 0.0000, -0.7876, -0.0000,  0.0000,  0.0000]])"
      ]
     },
     "execution_count": 82,
     "metadata": {},
     "output_type": "execute_result"
    }
   ],
   "source": [
    "m = nn.Dropout(p=0.5)\n",
    "X = torch.randn(10, 5)\n",
    "\n",
    "m(X)"
   ]
  },
  {
   "cell_type": "code",
   "execution_count": 83,
   "metadata": {},
   "outputs": [
    {
     "data": {
      "text/plain": [
       "tensor([[-0.0000, -0.0000, -0.0000, -0.0000,  0.0000],\n",
       "        [ 0.0000,  0.0000,  0.0000,  0.0000, -0.0000],\n",
       "        [ 0.0000, -0.0000,  0.8920, -0.6143,  0.0000],\n",
       "        [ 0.4211, -1.3652, -1.5683,  0.0000,  0.0000],\n",
       "        [-0.0000, -0.0000, -0.0000,  0.0000, -0.0000],\n",
       "        [ 0.0000, -0.0000, -0.0000, -0.0000, -0.9627],\n",
       "        [ 0.0000, -0.0000, -0.0000, -0.0000, -0.0000],\n",
       "        [ 0.0000, -0.0000,  0.0000,  0.4903,  0.0000],\n",
       "        [ 0.0000,  0.0000, -0.7413, -0.0000, -0.0000],\n",
       "        [ 1.3329, -0.0000, -0.0000,  0.7466,  1.6925]])"
      ]
     },
     "execution_count": 83,
     "metadata": {},
     "output_type": "execute_result"
    }
   ],
   "source": [
    "def dropout(x: Tensor, p: float = 0.2) -> Tensor:\n",
    "    \n",
    "    assert p > 0.0 or p < 1.0, \"p needs to be >0.0 and <1.0\"  \n",
    "    \n",
    "    mask = torch.bernoulli(torch.empty(x.shape).fill_(p)) \n",
    "    return x * mask\n",
    "    \n",
    "dropout(X)"
   ]
  },
  {
   "cell_type": "code",
   "execution_count": null,
   "metadata": {},
   "outputs": [],
   "source": []
  }
 ],
 "metadata": {
  "kernelspec": {
   "display_name": "Python [conda env:py39]",
   "language": "python",
   "name": "conda-env-py39-py"
  },
  "language_info": {
   "codemirror_mode": {
    "name": "ipython",
    "version": 3
   },
   "file_extension": ".py",
   "mimetype": "text/x-python",
   "name": "python",
   "nbconvert_exporter": "python",
   "pygments_lexer": "ipython3",
   "version": "3.9.10"
  }
 },
 "nbformat": 4,
 "nbformat_minor": 4
}
