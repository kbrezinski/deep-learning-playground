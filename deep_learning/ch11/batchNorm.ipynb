{
 "cells": [
  {
   "cell_type": "code",
   "execution_count": 26,
   "metadata": {},
   "outputs": [],
   "source": [
    "import torch\n",
    "import torch.nn as nn\n",
    "\n",
    "Tensor = torch.Tensor"
   ]
  },
  {
   "cell_type": "code",
   "execution_count": 105,
   "metadata": {},
   "outputs": [],
   "source": [
    "# (10 training examples, 5 features)\n",
    "d_in = 5\n",
    "d_hidden = 20\n",
    "\n",
    "X = torch.randn(10, d_in, requires_grad=True, dtype=torch.float32)"
   ]
  },
  {
   "cell_type": "code",
   "execution_count": 106,
   "metadata": {},
   "outputs": [
    {
     "data": {
      "text/plain": [
       "torch.Size([5, 20])"
      ]
     },
     "execution_count": 106,
     "metadata": {},
     "output_type": "execute_result"
    }
   ],
   "source": [
    "# weight parameter\n",
    "w = nn.Parameter(data=torch.Tensor(d_in, d_hidden))\n",
    "nn.init.uniform_(w).shape"
   ]
  },
  {
   "cell_type": "code",
   "execution_count": 122,
   "metadata": {},
   "outputs": [],
   "source": [
    "class BatchNorm:\n",
    "    \n",
    "    def __init__(self, d_out: int, epsilon: float = 1e-13):\n",
    "        \n",
    "        self.gamma = nn.Parameter(data=torch.Tensor(d_out,))\n",
    "        self.beta = nn.Parameter(data=torch.zeros(d_out,))\n",
    "    \n",
    "        self.epsilon = epsilon\n",
    "        \n",
    "    def __call__(self, z: Tensor) -> Tensor:\n",
    "        print(f\"{z.shape=}\")\n",
    "        \n",
    "        avg = z.sum(axis=0)  # (20, 1)\n",
    "        std = torch.std(z, axis=0)  # (20, 1)\n",
    "    \n",
    "        # (10, 20) - (1, 20) = (1, 20)\n",
    "        z_prime = (z - avg) / torch.sqrt((std ** 2) + self.epsilon)\n",
    "    \n",
    "        return (self.gamma * z_prime) + self.beta "
   ]
  },
  {
   "cell_type": "code",
   "execution_count": 123,
   "metadata": {},
   "outputs": [
    {
     "name": "stdout",
     "output_type": "stream",
     "text": [
      "z.shape=torch.Size([10, 20])\n"
     ]
    }
   ],
   "source": [
    "batch_norm = BatchNorm(d_out=d_hidden)\n",
    "\n",
    "z = X @ w\n",
    "a = batch_norm(z)\n",
    "output = torch.mean(a).backward()"
   ]
  },
  {
   "cell_type": "code",
   "execution_count": 124,
   "metadata": {},
   "outputs": [
    {
     "data": {
      "text/plain": [
       "tensor([0.0500, 0.0500, 0.0500, 0.0500, 0.0500, 0.0500, 0.0500, 0.0500, 0.0500,\n",
       "        0.0500, 0.0500, 0.0500, 0.0500, 0.0500, 0.0500, 0.0500, 0.0500, 0.0500,\n",
       "        0.0500, 0.0500])"
      ]
     },
     "execution_count": 124,
     "metadata": {},
     "output_type": "execute_result"
    }
   ],
   "source": [
    "batch_norm.beta.grad#.shape"
   ]
  },
  {
   "cell_type": "code",
   "execution_count": null,
   "metadata": {},
   "outputs": [],
   "source": []
  }
 ],
 "metadata": {
  "kernelspec": {
   "display_name": "Python [conda env:py39]",
   "language": "python",
   "name": "conda-env-py39-py"
  },
  "language_info": {
   "codemirror_mode": {
    "name": "ipython",
    "version": 3
   },
   "file_extension": ".py",
   "mimetype": "text/x-python",
   "name": "python",
   "nbconvert_exporter": "python",
   "pygments_lexer": "ipython3",
   "version": "3.9.10"
  }
 },
 "nbformat": 4,
 "nbformat_minor": 4
}
