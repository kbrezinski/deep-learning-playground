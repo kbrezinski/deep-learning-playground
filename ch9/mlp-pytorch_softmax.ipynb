{
 "cells": [
  {
   "cell_type": "code",
   "execution_count": 1,
   "metadata": {},
   "outputs": [
    {
     "ename": "ModuleNotFoundError",
     "evalue": "No module named 'torchvision'",
     "output_type": "error",
     "traceback": [
      "\u001b[1;31m---------------------------------------------------------------------------\u001b[0m",
      "\u001b[1;31mModuleNotFoundError\u001b[0m                       Traceback (most recent call last)",
      "\u001b[1;32m<ipython-input-1-d1eafb6f97f1>\u001b[0m in \u001b[0;36m<module>\u001b[1;34m\u001b[0m\n\u001b[0;32m      6\u001b[0m \u001b[1;32mimport\u001b[0m \u001b[0mnumpy\u001b[0m \u001b[1;32mas\u001b[0m \u001b[0mnp\u001b[0m\u001b[1;33m\u001b[0m\u001b[1;33m\u001b[0m\u001b[0m\n\u001b[0;32m      7\u001b[0m \u001b[1;33m\u001b[0m\u001b[0m\n\u001b[1;32m----> 8\u001b[1;33m \u001b[1;32mfrom\u001b[0m \u001b[0mtorchvision\u001b[0m \u001b[1;32mimport\u001b[0m \u001b[0mdatasets\u001b[0m\u001b[1;33m\u001b[0m\u001b[1;33m\u001b[0m\u001b[0m\n\u001b[0m\u001b[0;32m      9\u001b[0m \u001b[1;32mfrom\u001b[0m \u001b[0mtorchvision\u001b[0m \u001b[1;32mimport\u001b[0m \u001b[0mtransforms\u001b[0m\u001b[1;33m\u001b[0m\u001b[1;33m\u001b[0m\u001b[0m\n\u001b[0;32m     10\u001b[0m \u001b[1;33m\u001b[0m\u001b[0m\n",
      "\u001b[1;31mModuleNotFoundError\u001b[0m: No module named 'torchvision'"
     ]
    }
   ],
   "source": [
    "import pandas as pd\n",
    "import torch\n",
    "%matplotlib inline\n",
    "\n",
    "import time\n",
    "import numpy as np\n",
    "\n",
    "from torchvision import datasets\n",
    "from torchvision import transforms\n",
    "\n",
    "import torch.nn as nn\n",
    "import torch.nn.functional as F\n",
    "from torch.utils.data import DataLoader"
   ]
  },
  {
   "cell_type": "code",
   "execution_count": null,
   "metadata": {},
   "outputs": [],
   "source": [
    "DEVICE = torch.device('cuda:0' if torch.cuda.is_available() else 'cpu')"
   ]
  },
  {
   "cell_type": "code",
   "execution_count": null,
   "metadata": {},
   "outputs": [],
   "source": [
    "# Note transforms.ToTensor() scales input images to 0-1 range\n",
    "train_dataset = datasets.MNIST(root='data', \n",
    "                               train=True, \n",
    "                               transform=transforms.ToTensor(),\n",
    "                               download=True)\n",
    "\n",
    "test_dataset = datasets.MNIST(root='data', \n",
    "                              train=False, \n",
    "                              transform=transforms.ToTensor())\n",
    "\n",
    "train_loader = DataLoader(dataset=train_dataset, \n",
    "                          batch_size=BATCH_SIZE, \n",
    "                          shuffle=True)\n",
    "\n",
    "test_loader = DataLoader(dataset=test_dataset, \n",
    "                         batch_size=BATCH_SIZE, \n",
    "                         shuffle=False)\n",
    "\n",
    "# Checking the dataset\n",
    "for images, labels in train_loader:  \n",
    "    # (128, 1, 28, 28) = (batch_size, color, height, width)\n",
    "    print('Image batch dimensions:', images.shape)\n",
    "    # (128, 1) = (batch_size, 1)\n",
    "    print('Image label dimensions:', labels.shape)\n",
    "    break"
   ]
  },
  {
   "cell_type": "code",
   "execution_count": null,
   "metadata": {},
   "outputs": [],
   "source": [
    "class NLP(torch.nn.Module):\n",
    "    def __init__(self, n_features, n_hidden, n_classes):\n",
    "        super().__init__()\n",
    "        \n",
    "        self.n_classes = n_classes\n",
    "        self.model = nn.Sequential(\n",
    "            nn.Flatten(),\n",
    "            nn.Linear(n_features, n_hidden),\n",
    "            nn.Sigmoid(),\n",
    "            nn.Linear(n_hidden, n_classes),\n",
    "        )\n",
    "        \n",
    "    def forward(self, x):\n",
    "        logits = self.model(x)\n",
    "        probas = torch.softmax(logits, dim=1)\n",
    "        return logits, probas\n",
    "\n",
    "# negative log-liklihood loss\n",
    "def nll_loss(x, y):\n",
    "    y = torch.from_numpy(np.take(np.eye(10), y, axis=0))\n",
    "    return torch.sum(x * y)\n",
    "\n",
    "def get_accuracy(logits, y):\n",
    "    pred = torch.argmax(logits, axis=1)\n",
    "    corr_pred = torch.sum(pred == y)\n",
    "    return corr_pred / len(y)\n",
    "\n",
    "def nll_loss_test(model, dataloader):\n",
    "    curr_loss = 0\n",
    "    \n",
    "    model.eval()  # disable norms and dropout\n",
    "    with torch.no_grad():  # disable backprop\n",
    "        \n",
    "        for i, (imgs, labels) in enumerate(dataloader):\n",
    "            imgs.to(DEVICE)\n",
    "            labels.to(DEVICE)\n",
    "            \n",
    "            logits, probas = model(imgs)\n",
    "            curr_loss += nll_loss(probas, labels)\n",
    "            \n",
    "        return curr_loss / (i + 1)"
   ]
  },
  {
   "cell_type": "code",
   "execution_count": null,
   "metadata": {},
   "outputs": [],
   "source": [
    "BATCH_SIZE = 256\n",
    "EPOCHS = 500\n",
    "\n",
    "model = NLP(n_features=28*28, n_hidden=64, n_classes=10).to(DEVICE)\n",
    "opt = torch.optim.SGD(model.parameters(), lr=.1)\n",
    "\n",
    "## Training Phase\n",
    "for epoch in range(EPOCHS):\n",
    "    model.train()\n",
    "    \n",
    "    cum_loss = 0\n",
    "    corr_pred = 0\n",
    "    \n",
    "    for i, (imgs, labels) in enumerate(train_loader):\n",
    "        \n",
    "        imgs.to(DEVICE)\n",
    "        labels.to(DEVICE)\n",
    "        \n",
    "        logits, probas = model(imgs)\n",
    "        loss = nll_loss(probas, labels)\n",
    "        \n",
    "        cum_loss += loss\n",
    "        corr_pred += get_accuracy(logits, labels)\n",
    "        \n",
    "        opt.zero_grad()\n",
    "        loss.backward()\n",
    "        opt.step()\n",
    "   \n",
    "    if not epoch % (EPOCHS // 100):\n",
    "        print(f\"Epoch: {epoch:03d} | Train. Loss: {cum_loss / (i + 1):.4f} | Train Acc: {corr_pred / len(train_loader) * 100:.2f}% \\\n",
    "          | Test Loss: {nll_loss_test(model, test_loader):.4f}\")"
   ]
  },
  {
   "cell_type": "code",
   "execution_count": null,
   "metadata": {},
   "outputs": [],
   "source": []
  }
 ],
 "metadata": {
  "kernelspec": {
   "display_name": "Python [conda env:GAT]",
   "language": "python",
   "name": "conda-env-GAT-py"
  },
  "language_info": {
   "codemirror_mode": {
    "name": "ipython",
    "version": 3
   },
   "file_extension": ".py",
   "mimetype": "text/x-python",
   "name": "python",
   "nbconvert_exporter": "python",
   "pygments_lexer": "ipython3",
   "version": "3.8.5"
  }
 },
 "nbformat": 4,
 "nbformat_minor": 4
}
