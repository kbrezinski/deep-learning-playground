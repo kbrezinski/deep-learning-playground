{
 "cells": [
  {
   "cell_type": "code",
   "execution_count": 1,
   "metadata": {},
   "outputs": [],
   "source": [
    "from sklearn import datasets\n",
    "\n",
    "import torch\n",
    "import torch.nn.functional as F\n",
    "\n",
    "from torch import nn\n",
    "from torch.utils.data import DataLoader\n",
    "\n",
    "import lightning.pytorch as pl"
   ]
  },
  {
   "cell_type": "code",
   "execution_count": 2,
   "metadata": {},
   "outputs": [],
   "source": [
    "import warnings\n",
    "warnings.filterwarnings('ignore')"
   ]
  },
  {
   "cell_type": "code",
   "execution_count": 76,
   "metadata": {},
   "outputs": [],
   "source": [
    "# Define the autoencoder class\n",
    "class AutoEncoder(nn.Module):\n",
    "    def __init__(self):\n",
    "        super().__init__()\n",
    "        self.encoder = nn.Sequential(\n",
    "            nn.Linear(28 * 28, 32),\n",
    "            nn.ReLU(True),\n",
    "            nn.Linear(32, 18)\n",
    "        )\n",
    "        self.decoder = nn.Sequential(\n",
    "            nn.Linear(18, 32),\n",
    "            nn.ReLU(True),\n",
    "            nn.Linear(32, 28 * 28)\n",
    "        )\n",
    "\n",
    "    def forward(self, x):\n",
    "        x = self.encoder(x)\n",
    "        x = self.decoder(x)\n",
    "        return x\n",
    "\n",
    "    \n",
    "class AutoEncoderTrainer(pl.LightningModule):\n",
    "    def __init__(self):\n",
    "        super().__init__()\n",
    "        self.save_hyperparameters()\n",
    "        self.model = AutoEncoder()\n",
    "\n",
    "    def forward(self, x):\n",
    "        return self.model(x)\n",
    "    \n",
    "    def training_step(self, batch, batch_idx):\n",
    "        x, y = batch\n",
    "        x = x.flatten(start_dim=1)\n",
    "        x_hat = self.model(x)\n",
    "        loss = F.mse_loss(x_hat, x)\n",
    "        return loss\n",
    "\n",
    "    def test_step(self, batch, batch_idx):\n",
    "        x, y = batch\n",
    "        x = x.flatten(start_dim=1)\n",
    "        x_hat = self.model(x)\n",
    "        test_loss = F.mse_loss(x_hat, x)\n",
    "        self.log(\"test_loss\", test_loss, on_step=True, on_epoch=True, sync_dist=True)\n",
    "    \n",
    "    def validation_step(self, batch, batch_idx):\n",
    "        x, y = batch\n",
    "        x = x.flatten(start_dim=1)\n",
    "        x_hat = self.model(x)\n",
    "        val_loss = F.mse_loss(x_hat, x)\n",
    "        self.log(\"val_loss\", val_loss, on_step=True, on_epoch=True, sync_dist=True)\n",
    "\n",
    "    def configure_optimizers(self):\n",
    "        optimizer = torch.optim.AdamW(self.parameters(), lr=1e-3)\n",
    "        return optimizer\n",
    "        \n",
    "    def predict_step(self, batch, batch_idx):\n",
    "        return self(batch)"
   ]
  },
  {
   "cell_type": "code",
   "execution_count": 142,
   "metadata": {},
   "outputs": [],
   "source": [
    "from torchmetrics import ExplainedVariance, Accuracy\n",
    "\n",
    "# Define a Conv Classifier\n",
    "class ConvNet(nn.Module):\n",
    "    def __init__(self):\n",
    "        super().__init__()\n",
    "        self.model = nn.Sequential(\n",
    "            nn.Conv2d(1, 32, (3, 3)),\n",
    "            nn.ReLU(),\n",
    "            nn.MaxPool2d((2, 2)),\n",
    "            nn.Flatten(),\n",
    "            nn.LazyLinear(50),\n",
    "            nn.ReLU(),\n",
    "            nn.Dropout(0.2),\n",
    "            nn.Linear(50, 10)\n",
    "        )\n",
    "\n",
    "    def forward(self, x):\n",
    "        return self.model(x)\n",
    "\n",
    "class ConvNetTrainer(pl.LightningModule):\n",
    "    def __init__(self):\n",
    "        super().__init__()\n",
    "        self.save_hyperparameters()\n",
    "        self.model = ConvNet()\n",
    "\n",
    "        self.accuracy = Accuracy(task=\"multiclass\", num_classes=10)\n",
    "\n",
    "    def forward(self, x):\n",
    "        return self.model(x)\n",
    "    \n",
    "    def training_step(self, batch, batch_idx):\n",
    "        x, y = batch\n",
    "        logits = self.model(x)\n",
    "        loss = F.cross_entropy(logits, y)\n",
    "        predictions = torch.argmax(logits, dim=1)\n",
    "        batch_value = self.accuracy(predictions, y)\n",
    "        self.log(\"train_acc\", batch_value)\n",
    "        return loss\n",
    "\n",
    "    def on_train_epoch_end(self):\n",
    "        self.accuracy.reset()\n",
    "\n",
    "    def test_step(self, batch, batch_idx):\n",
    "        x, y = batch\n",
    "        logits = self.model(x)\n",
    "        test_loss = F.cross_entropy(logits, y)\n",
    "        test_accuracy = torch.sum(torch.argmax(logits, dim=1) == y) / len(y)\n",
    "        self.log(\"test_loss\", test_loss, on_step=False, on_epoch=True, sync_dist=True)\n",
    "        self.log(\"test_acc\", test_accuracy, on_step=False, on_epoch=True, sync_dist=True)\n",
    "    \n",
    "    def validation_step(self, batch, batch_idx):\n",
    "        x, y = batch\n",
    "        logits = self.model(x)\n",
    "        val_loss = F.cross_entropy(logits, y)\n",
    "        val_accuracy = torch.sum(torch.argmax(logits, dim=1) == y) / len(y)\n",
    "        self.log(\"val_loss\", val_loss, on_step=False, on_epoch=True, sync_dist=True)\n",
    "        self.log(\"val_acc\", val_accuracy, on_step=False, on_epoch=True, sync_dist=True)\n",
    "\n",
    "    def configure_optimizers(self):\n",
    "        optimizer = torch.optim.AdamW(self.parameters(), lr=1e-3)\n",
    "        return optimizer\n",
    "        \n",
    "    def predict_step(self, batch, batch_idx):\n",
    "        return self(batch)"
   ]
  },
  {
   "cell_type": "code",
   "execution_count": 138,
   "metadata": {},
   "outputs": [
    {
     "data": {
      "text/plain": [
       "torch.Size([64, 10])"
      ]
     },
     "execution_count": 138,
     "metadata": {},
     "output_type": "execute_result"
    }
   ],
   "source": [
    "net = ConvNet()\n",
    "X, y = next(iter(train_loader))\n",
    "logits = net(X)\n",
    "F.cross_entropy(logits, y)\n",
    "logits.shape"
   ]
  },
  {
   "cell_type": "code",
   "execution_count": 116,
   "metadata": {},
   "outputs": [],
   "source": [
    "import torch.utils.data as data\n",
    "from torchvision.datasets import MNIST\n",
    "from torchvision import transforms\n",
    "\n",
    "class MNISTDataModule(pl.LightningDataModule):\n",
    "    def __init__(self, data_dir: str='.'):\n",
    "        super().__init__()\n",
    "        self.data_dir = data_dir\n",
    "        self.transform = transforms.Compose([transforms.ToTensor(), transforms.Normalize((0.1307,), (0.3081,))])\n",
    "\n",
    "    def prepare_data(self):\n",
    "        MNIST(self.data_dir, train=True, download=True)\n",
    "        MNIST(self.data_dir, train=False, download=True)\n",
    "\n",
    "    # automatically called after prepare_data; don't assign state\n",
    "    def setup(self, stage: str):\n",
    "        if stage == \"fit\":\n",
    "            train_dataset = MNIST(self.data_dir, train=True, transform=self.transform)\n",
    "            train_set_size = int(len(train_dataset) * 0.8)\n",
    "            valid_set_size = len(train_dataset) - train_set_size\n",
    "            self.train_dataset, self.val_dataset = data.random_split(train_dataset, [train_set_size, valid_set_size])\n",
    "        else:\n",
    "            self.test_dataset = MNIST(self.data_dir, train=False, transform=self.transform)\n",
    "\n",
    "    def train_dataloader(self):\n",
    "        return DataLoader(self.train_dataset, batch_size=64)\n",
    "\n",
    "    def test_dataloader(self):\n",
    "        return DataLoader(self.test_dataset, batch_size=64)\n",
    "\n",
    "    def val_dataloader(self):\n",
    "        return DataLoader(self.val_dataset, batch_size=64)\n",
    "\n",
    "    def predict_dataloader(self):\n",
    "        return DataLoader(self.test_dataset, batch_size=64)"
   ]
  },
  {
   "cell_type": "code",
   "execution_count": 136,
   "metadata": {},
   "outputs": [
    {
     "name": "stderr",
     "output_type": "stream",
     "text": [
      "GPU available: True (cuda), used: True\n",
      "TPU available: False, using: 0 TPU cores\n",
      "IPU available: False, using: 0 IPUs\n",
      "HPU available: False, using: 0 HPUs\n",
      "LOCAL_RANK: 0 - CUDA_VISIBLE_DEVICES: [0]\n"
     ]
    },
    {
     "data": {
      "application/vnd.jupyter.widget-view+json": {
       "model_id": "e317b6c9abf84244bfdbb9cd697f0b41",
       "version_major": 2,
       "version_minor": 0
      },
      "text/plain": [
       "Testing: 0it [00:00, ?it/s]"
      ]
     },
     "metadata": {},
     "output_type": "display_data"
    },
    {
     "data": {
      "text/html": [
       "<pre style=\"white-space:pre;overflow-x:auto;line-height:normal;font-family:Menlo,'DejaVu Sans Mono',consolas,'Courier New',monospace\">┏━━━━━━━━━━━━━━━━━━━━━━━━━━━┳━━━━━━━━━━━━━━━━━━━━━━━━━━━┓\n",
       "┃<span style=\"font-weight: bold\">        Test metric        </span>┃<span style=\"font-weight: bold\">       DataLoader 0        </span>┃\n",
       "┡━━━━━━━━━━━━━━━━━━━━━━━━━━━╇━━━━━━━━━━━━━━━━━━━━━━━━━━━┩\n",
       "│<span style=\"color: #008080; text-decoration-color: #008080\">      test_acc_epoch       </span>│<span style=\"color: #800080; text-decoration-color: #800080\">    0.9817000031471252     </span>│\n",
       "│<span style=\"color: #008080; text-decoration-color: #008080\">      test_loss_epoch      </span>│<span style=\"color: #800080; text-decoration-color: #800080\">    0.05850910022854805    </span>│\n",
       "└───────────────────────────┴───────────────────────────┘\n",
       "</pre>\n"
      ],
      "text/plain": [
       "┏━━━━━━━━━━━━━━━━━━━━━━━━━━━┳━━━━━━━━━━━━━━━━━━━━━━━━━━━┓\n",
       "┃\u001b[1m \u001b[0m\u001b[1m       Test metric       \u001b[0m\u001b[1m \u001b[0m┃\u001b[1m \u001b[0m\u001b[1m      DataLoader 0       \u001b[0m\u001b[1m \u001b[0m┃\n",
       "┡━━━━━━━━━━━━━━━━━━━━━━━━━━━╇━━━━━━━━━━━━━━━━━━━━━━━━━━━┩\n",
       "│\u001b[36m \u001b[0m\u001b[36m     test_acc_epoch      \u001b[0m\u001b[36m \u001b[0m│\u001b[35m \u001b[0m\u001b[35m   0.9817000031471252    \u001b[0m\u001b[35m \u001b[0m│\n",
       "│\u001b[36m \u001b[0m\u001b[36m     test_loss_epoch     \u001b[0m\u001b[36m \u001b[0m│\u001b[35m \u001b[0m\u001b[35m   0.05850910022854805   \u001b[0m\u001b[35m \u001b[0m│\n",
       "└───────────────────────────┴───────────────────────────┘\n"
      ]
     },
     "metadata": {},
     "output_type": "display_data"
    },
    {
     "data": {
      "text/plain": [
       "[{'test_loss_epoch': 0.05850910022854805,\n",
       "  'test_acc_epoch': 0.9817000031471252}]"
      ]
     },
     "execution_count": 136,
     "metadata": {},
     "output_type": "execute_result"
    }
   ],
   "source": [
    "# load recent checkpoint and eval\n",
    "model = ConvNetTrainer.load_from_checkpoint(r\"lightning_logs/version_27/checkpoints/epoch=3-step=3000.ckpt\")\n",
    "#model = AutoEncoderTrainer()\n",
    "trainer = pl.Trainer()\n",
    "\n",
    "# [!] predict method not working \n",
    "trainer.test(model, datamodule=MNISTDataModule())"
   ]
  },
  {
   "cell_type": "code",
   "execution_count": 143,
   "metadata": {},
   "outputs": [
    {
     "name": "stderr",
     "output_type": "stream",
     "text": [
      "GPU available: True (cuda), used: True\n",
      "TPU available: False, using: 0 TPU cores\n",
      "IPU available: False, using: 0 IPUs\n",
      "HPU available: False, using: 0 HPUs\n",
      "LOCAL_RANK: 0 - CUDA_VISIBLE_DEVICES: [0]\n",
      "\n",
      "  | Name     | Type               | Params\n",
      "------------------------------------------------\n",
      "0 | model    | ConvNet            | 830   \n",
      "1 | accuracy | MulticlassAccuracy | 0     \n",
      "------------------------------------------------\n",
      "830       Trainable params\n",
      "0         Non-trainable params\n",
      "830       Total params\n",
      "0.003     Total estimated model params size (MB)\n"
     ]
    },
    {
     "data": {
      "application/vnd.jupyter.widget-view+json": {
       "model_id": "ea2bb08d3cea46e8bee9a74a42ed0976",
       "version_major": 2,
       "version_minor": 0
      },
      "text/plain": [
       "Sanity Checking: 0it [00:00, ?it/s]"
      ]
     },
     "metadata": {},
     "output_type": "display_data"
    },
    {
     "data": {
      "application/vnd.jupyter.widget-view+json": {
       "model_id": "1a26a4d6b9f14d639db679676eac8b4b",
       "version_major": 2,
       "version_minor": 0
      },
      "text/plain": [
       "Training: 0it [00:00, ?it/s]"
      ]
     },
     "metadata": {},
     "output_type": "display_data"
    },
    {
     "data": {
      "application/vnd.jupyter.widget-view+json": {
       "model_id": "f8c7b598970e43bb9709c710abe081ed",
       "version_major": 2,
       "version_minor": 0
      },
      "text/plain": [
       "Validation: 0it [00:00, ?it/s]"
      ]
     },
     "metadata": {},
     "output_type": "display_data"
    },
    {
     "data": {
      "application/vnd.jupyter.widget-view+json": {
       "model_id": "32ba3423a7bc4103a12bf6b66fdc88b3",
       "version_major": 2,
       "version_minor": 0
      },
      "text/plain": [
       "Validation: 0it [00:00, ?it/s]"
      ]
     },
     "metadata": {},
     "output_type": "display_data"
    },
    {
     "data": {
      "application/vnd.jupyter.widget-view+json": {
       "model_id": "30f318625ab7458da9a315370b9a3267",
       "version_major": 2,
       "version_minor": 0
      },
      "text/plain": [
       "Validation: 0it [00:00, ?it/s]"
      ]
     },
     "metadata": {},
     "output_type": "display_data"
    },
    {
     "data": {
      "application/vnd.jupyter.widget-view+json": {
       "model_id": "7e555723ee0e431893643b7776296586",
       "version_major": 2,
       "version_minor": 0
      },
      "text/plain": [
       "Validation: 0it [00:00, ?it/s]"
      ]
     },
     "metadata": {},
     "output_type": "display_data"
    },
    {
     "name": "stderr",
     "output_type": "stream",
     "text": [
      "FIT Profiler Report\n",
      "\n",
      "---------------------------------------------------------------------------------------------------------------------------------------------------------------------------------------------------------------------------------------------------------------------------\n",
      "|  Action                                                                                                                                                         \t|  Mean duration (s)\t|  Num calls      \t|  Total time (s) \t|  Percentage %   \t|\n",
      "---------------------------------------------------------------------------------------------------------------------------------------------------------------------------------------------------------------------------------------------------------------------------\n",
      "|  Total                                                                                                                                                          \t|  -              \t|  157850         \t|  98.156         \t|  100 %          \t|\n",
      "---------------------------------------------------------------------------------------------------------------------------------------------------------------------------------------------------------------------------------------------------------------------------\n",
      "|  run_training_epoch                                                                                                                                             \t|  24.476         \t|  4              \t|  97.905         \t|  99.744         \t|\n",
      "|  [_TrainingEpochLoop].train_dataloader_next                                                                                                                     \t|  0.010541       \t|  3000           \t|  31.624         \t|  32.218         \t|\n",
      "|  [Callback]DeviceStatsMonitor.on_validation_batch_start                                                                                                         \t|  0.02108        \t|  754            \t|  15.894         \t|  16.193         \t|\n",
      "|  [Callback]DeviceStatsMonitor.on_validation_batch_end                                                                                                           \t|  0.02079        \t|  754            \t|  15.676         \t|  15.97          \t|\n",
      "|  run_training_batch                                                                                                                                             \t|  0.005188       \t|  3000           \t|  15.564         \t|  15.856         \t|\n",
      "|  [LightningModule]ConvNetTrainer.optimizer_step                                                                                                                 \t|  0.005115       \t|  3000           \t|  15.345         \t|  15.633         \t|\n",
      "|  [Strategy]SingleDeviceStrategy.training_step                                                                                                                   \t|  0.0032187      \t|  3000           \t|  9.656          \t|  9.8374         \t|\n",
      "|  [_EvaluationLoop].val_next                                                                                                                                     \t|  0.011828       \t|  755            \t|  8.93           \t|  9.0978         \t|\n",
      "|  [Strategy]SingleDeviceStrategy.backward                                                                                                                        \t|  0.001064       \t|  3000           \t|  3.192          \t|  3.252          \t|\n",
      "|  [Callback]TQDMProgressBar.on_train_batch_end                                                                                                                   \t|  0.000903       \t|  3000           \t|  2.709          \t|  2.7599         \t|\n",
      "|  [Strategy]SingleDeviceStrategy.validation_step                                                                                                                 \t|  0.0017759      \t|  754            \t|  1.339          \t|  1.3642         \t|\n",
      "|  [Callback]DeviceStatsMonitor.on_train_batch_start                                                                                                              \t|  0.00044433     \t|  3000           \t|  1.333          \t|  1.358          \t|\n",
      "|  [Callback]DeviceStatsMonitor.on_train_batch_end                                                                                                                \t|  0.000442       \t|  3000           \t|  1.326          \t|  1.3509         \t|\n",
      "|  [Strategy]SingleDeviceStrategy.batch_to_device                                                                                                                 \t|  0.00021923     \t|  3754           \t|  0.823          \t|  0.83846        \t|\n",
      "|  [LightningModule]ConvNetTrainer.transfer_batch_to_device                                                                                                       \t|  0.00018194     \t|  3754           \t|  0.683          \t|  0.69583        \t|\n",
      "|  [Callback]TQDMProgressBar.on_validation_batch_end                                                                                                              \t|  0.00065915     \t|  754            \t|  0.497          \t|  0.50634        \t|\n",
      "|  [LightningModule]ConvNetTrainer.optimizer_zero_grad                                                                                                            \t|  6.2667e-05     \t|  3000           \t|  0.188          \t|  0.19153        \t|\n",
      "|  [Callback]ModelCheckpoint{'monitor': None, 'mode': 'min', 'every_n_train_steps': 0, 'every_n_epochs': 1, 'train_time_interval': None}.on_train_epoch_end       \t|  0.02           \t|  4              \t|  0.08           \t|  0.081503       \t|\n",
      "|  [LightningModule]ConvNetTrainer.configure_gradient_clipping                                                                                                    \t|  1.5667e-05     \t|  3000           \t|  0.047          \t|  0.047883       \t|\n",
      "|  [Callback]ModelCheckpoint{'monitor': None, 'mode': 'min', 'every_n_train_steps': 0, 'every_n_epochs': 1, 'train_time_interval': None}.on_train_batch_end       \t|  1.0667e-05     \t|  3000           \t|  0.032          \t|  0.032601       \t|\n",
      "|  [LightningDataModule]MNISTDataModule.setup                                                                                                                     \t|  0.032          \t|  1              \t|  0.032          \t|  0.032601       \t|\n",
      "|  [Callback]EarlyStopping{'monitor': 'val_loss', 'mode': 'max'}.on_after_backward                                                                                \t|  1.0667e-05     \t|  3000           \t|  0.032          \t|  0.032601       \t|\n",
      "|  [LightningDataModule]MNISTDataModule.prepare_data                                                                                                              \t|  0.031          \t|  1              \t|  0.031          \t|  0.031582       \t|\n",
      "|  [Callback]DeviceStatsMonitor.on_before_zero_grad                                                                                                               \t|  1.0333e-05     \t|  3000           \t|  0.031          \t|  0.031582       \t|\n",
      "|  [Callback]ModelSummary.on_train_batch_start                                                                                                                    \t|  1.0333e-05     \t|  3000           \t|  0.031          \t|  0.031582       \t|\n",
      "|  [Callback]TQDMProgressBar.on_validation_batch_start                                                                                                            \t|  2.122e-05      \t|  754            \t|  0.016          \t|  0.016301       \t|\n",
      "|  [Callback]ModelCheckpoint{'monitor': None, 'mode': 'min', 'every_n_train_steps': 0, 'every_n_epochs': 1, 'train_time_interval': None}.on_before_backward       \t|  5.3333e-06     \t|  3000           \t|  0.016          \t|  0.016301       \t|\n",
      "|  [Callback]TQDMProgressBar.on_sanity_check_start                                                                                                                \t|  0.016          \t|  1              \t|  0.016          \t|  0.016301       \t|\n",
      "|  [Callback]EarlyStopping{'monitor': 'val_loss', 'mode': 'max'}.on_train_batch_start                                                                             \t|  5.3333e-06     \t|  3000           \t|  0.016          \t|  0.016301       \t|\n",
      "|  [Callback]EarlyStopping{'monitor': 'val_loss', 'mode': 'max'}.on_before_backward                                                                               \t|  5.3333e-06     \t|  3000           \t|  0.016          \t|  0.016301       \t|\n",
      "|  [Callback]ModelCheckpoint{'monitor': None, 'mode': 'min', 'every_n_train_steps': 0, 'every_n_epochs': 1, 'train_time_interval': None}.on_before_optimizer_step \t|  5.3333e-06     \t|  3000           \t|  0.016          \t|  0.016301       \t|\n",
      "|  [Callback]ModelSummary.on_fit_start                                                                                                                            \t|  0.015          \t|  1              \t|  0.015          \t|  0.015282       \t|\n",
      "|  [Callback]TQDMProgressBar.on_train_start                                                                                                                       \t|  0.015          \t|  1              \t|  0.015          \t|  0.015282       \t|\n",
      "|  [Callback]EarlyStopping{'monitor': 'val_loss', 'mode': 'max'}.on_before_zero_grad                                                                              \t|  5e-06          \t|  3000           \t|  0.015          \t|  0.015282       \t|\n",
      "|  [Callback]TQDMProgressBar.on_before_optimizer_step                                                                                                             \t|  5e-06          \t|  3000           \t|  0.015          \t|  0.015282       \t|\n",
      "|  [Callback]EarlyStopping{'monitor': 'val_loss', 'mode': 'max'}.on_train_batch_end                                                                               \t|  5e-06          \t|  3000           \t|  0.015          \t|  0.015282       \t|\n",
      "|  [Callback]TQDMProgressBar.on_train_batch_start                                                                                                                 \t|  5e-06          \t|  3000           \t|  0.015          \t|  0.015282       \t|\n",
      "|  [LightningModule]ConvNetTrainer.configure_callbacks                                                                                                            \t|  0.0            \t|  1              \t|  0.0            \t|  0.0            \t|\n",
      "|  [LightningModule]ConvNetTrainer.prepare_data                                                                                                                   \t|  0.0            \t|  1              \t|  0.0            \t|  0.0            \t|\n",
      "|  [Callback]EarlyStopping{'monitor': 'val_loss', 'mode': 'max'}.setup                                                                                            \t|  0.0            \t|  1              \t|  0.0            \t|  0.0            \t|\n",
      "|  [Callback]DeviceStatsMonitor.setup                                                                                                                             \t|  0.0            \t|  1              \t|  0.0            \t|  0.0            \t|\n",
      "|  [Callback]TQDMProgressBar.setup                                                                                                                                \t|  0.0            \t|  1              \t|  0.0            \t|  0.0            \t|\n",
      "|  [Callback]ModelSummary.setup                                                                                                                                   \t|  0.0            \t|  1              \t|  0.0            \t|  0.0            \t|\n",
      "|  [Callback]ModelCheckpoint{'monitor': None, 'mode': 'min', 'every_n_train_steps': 0, 'every_n_epochs': 1, 'train_time_interval': None}.setup                    \t|  0.0            \t|  1              \t|  0.0            \t|  0.0            \t|\n",
      "|  [LightningModule]ConvNetTrainer.setup                                                                                                                          \t|  0.0            \t|  1              \t|  0.0            \t|  0.0            \t|\n",
      "|  [LightningModule]ConvNetTrainer.configure_sharded_model                                                                                                        \t|  0.0            \t|  1              \t|  0.0            \t|  0.0            \t|\n",
      "|  [LightningModule]ConvNetTrainer.configure_optimizers                                                                                                           \t|  0.0            \t|  1              \t|  0.0            \t|  0.0            \t|\n",
      "|  [Callback]EarlyStopping{'monitor': 'val_loss', 'mode': 'max'}.on_fit_start                                                                                     \t|  0.0            \t|  1              \t|  0.0            \t|  0.0            \t|\n",
      "|  [Callback]DeviceStatsMonitor.on_fit_start                                                                                                                      \t|  0.0            \t|  1              \t|  0.0            \t|  0.0            \t|\n",
      "|  [Callback]TQDMProgressBar.on_fit_start                                                                                                                         \t|  0.0            \t|  1              \t|  0.0            \t|  0.0            \t|\n",
      "|  [Callback]ModelCheckpoint{'monitor': None, 'mode': 'min', 'every_n_train_steps': 0, 'every_n_epochs': 1, 'train_time_interval': None}.on_fit_start             \t|  0.0            \t|  1              \t|  0.0            \t|  0.0            \t|\n",
      "|  [LightningModule]ConvNetTrainer.on_fit_start                                                                                                                   \t|  0.0            \t|  1              \t|  0.0            \t|  0.0            \t|\n",
      "|  [Callback]EarlyStopping{'monitor': 'val_loss', 'mode': 'max'}.on_sanity_check_start                                                                            \t|  0.0            \t|  1              \t|  0.0            \t|  0.0            \t|\n",
      "|  [Callback]DeviceStatsMonitor.on_sanity_check_start                                                                                                             \t|  0.0            \t|  1              \t|  0.0            \t|  0.0            \t|\n",
      "|  [Callback]ModelSummary.on_sanity_check_start                                                                                                                   \t|  0.0            \t|  1              \t|  0.0            \t|  0.0            \t|\n",
      "|  [Callback]ModelCheckpoint{'monitor': None, 'mode': 'min', 'every_n_train_steps': 0, 'every_n_epochs': 1, 'train_time_interval': None}.on_sanity_check_start    \t|  0.0            \t|  1              \t|  0.0            \t|  0.0            \t|\n",
      "|  [LightningDataModule]MNISTDataModule.val_dataloader                                                                                                            \t|  0.0            \t|  1              \t|  0.0            \t|  0.0            \t|\n",
      "|  [LightningModule]ConvNetTrainer.on_validation_model_eval                                                                                                       \t|  0.0            \t|  5              \t|  0.0            \t|  0.0            \t|\n",
      "|  [Callback]EarlyStopping{'monitor': 'val_loss', 'mode': 'max'}.on_validation_start                                                                              \t|  0.0            \t|  5              \t|  0.0            \t|  0.0            \t|\n",
      "|  [Callback]DeviceStatsMonitor.on_validation_start                                                                                                               \t|  0.0            \t|  5              \t|  0.0            \t|  0.0            \t|\n",
      "|  [Callback]TQDMProgressBar.on_validation_start                                                                                                                  \t|  0.0            \t|  5              \t|  0.0            \t|  0.0            \t|\n",
      "|  [Callback]ModelSummary.on_validation_start                                                                                                                     \t|  0.0            \t|  5              \t|  0.0            \t|  0.0            \t|\n",
      "|  [Callback]ModelCheckpoint{'monitor': None, 'mode': 'min', 'every_n_train_steps': 0, 'every_n_epochs': 1, 'train_time_interval': None}.on_validation_start      \t|  0.0            \t|  5              \t|  0.0            \t|  0.0            \t|\n",
      "|  [LightningModule]ConvNetTrainer.on_validation_start                                                                                                            \t|  0.0            \t|  5              \t|  0.0            \t|  0.0            \t|\n",
      "|  [Strategy]SingleDeviceStrategy.on_validation_start                                                                                                             \t|  0.0            \t|  5              \t|  0.0            \t|  0.0            \t|\n",
      "|  [Callback]EarlyStopping{'monitor': 'val_loss', 'mode': 'max'}.on_validation_epoch_start                                                                        \t|  0.0            \t|  5              \t|  0.0            \t|  0.0            \t|\n",
      "|  [Callback]DeviceStatsMonitor.on_validation_epoch_start                                                                                                         \t|  0.0            \t|  5              \t|  0.0            \t|  0.0            \t|\n",
      "|  [Callback]TQDMProgressBar.on_validation_epoch_start                                                                                                            \t|  0.0            \t|  5              \t|  0.0            \t|  0.0            \t|\n",
      "|  [Callback]ModelSummary.on_validation_epoch_start                                                                                                               \t|  0.0            \t|  5              \t|  0.0            \t|  0.0            \t|\n",
      "|  [Callback]ModelCheckpoint{'monitor': None, 'mode': 'min', 'every_n_train_steps': 0, 'every_n_epochs': 1, 'train_time_interval': None}.on_validation_epoch_start\t|  0.0            \t|  5              \t|  0.0            \t|  0.0            \t|\n",
      "|  [LightningModule]ConvNetTrainer.on_validation_epoch_start                                                                                                      \t|  0.0            \t|  5              \t|  0.0            \t|  0.0            \t|\n",
      "|  [LightningModule]ConvNetTrainer.on_before_batch_transfer                                                                                                       \t|  0.0            \t|  3754           \t|  0.0            \t|  0.0            \t|\n",
      "|  [LightningModule]ConvNetTrainer.on_after_batch_transfer                                                                                                        \t|  0.0            \t|  3754           \t|  0.0            \t|  0.0            \t|\n",
      "|  [Callback]EarlyStopping{'monitor': 'val_loss', 'mode': 'max'}.on_validation_batch_start                                                                        \t|  0.0            \t|  754            \t|  0.0            \t|  0.0            \t|\n",
      "|  [Callback]ModelSummary.on_validation_batch_start                                                                                                               \t|  0.0            \t|  754            \t|  0.0            \t|  0.0            \t|\n",
      "|  [Callback]ModelCheckpoint{'monitor': None, 'mode': 'min', 'every_n_train_steps': 0, 'every_n_epochs': 1, 'train_time_interval': None}.on_validation_batch_start\t|  0.0            \t|  754            \t|  0.0            \t|  0.0            \t|\n",
      "|  [LightningModule]ConvNetTrainer.on_validation_batch_start                                                                                                      \t|  0.0            \t|  754            \t|  0.0            \t|  0.0            \t|\n",
      "|  [Callback]EarlyStopping{'monitor': 'val_loss', 'mode': 'max'}.on_validation_batch_end                                                                          \t|  0.0            \t|  754            \t|  0.0            \t|  0.0            \t|\n",
      "|  [Callback]ModelSummary.on_validation_batch_end                                                                                                                 \t|  0.0            \t|  754            \t|  0.0            \t|  0.0            \t|\n",
      "|  [Callback]ModelCheckpoint{'monitor': None, 'mode': 'min', 'every_n_train_steps': 0, 'every_n_epochs': 1, 'train_time_interval': None}.on_validation_batch_end  \t|  0.0            \t|  754            \t|  0.0            \t|  0.0            \t|\n",
      "|  [LightningModule]ConvNetTrainer.on_validation_batch_end                                                                                                        \t|  0.0            \t|  754            \t|  0.0            \t|  0.0            \t|\n",
      "|  [Callback]EarlyStopping{'monitor': 'val_loss', 'mode': 'max'}.on_validation_epoch_end                                                                          \t|  0.0            \t|  5              \t|  0.0            \t|  0.0            \t|\n",
      "|  [Callback]DeviceStatsMonitor.on_validation_epoch_end                                                                                                           \t|  0.0            \t|  5              \t|  0.0            \t|  0.0            \t|\n",
      "|  [Callback]TQDMProgressBar.on_validation_epoch_end                                                                                                              \t|  0.0            \t|  5              \t|  0.0            \t|  0.0            \t|\n",
      "|  [Callback]ModelSummary.on_validation_epoch_end                                                                                                                 \t|  0.0            \t|  5              \t|  0.0            \t|  0.0            \t|\n",
      "|  [Callback]ModelCheckpoint{'monitor': None, 'mode': 'min', 'every_n_train_steps': 0, 'every_n_epochs': 1, 'train_time_interval': None}.on_validation_epoch_end  \t|  0.0            \t|  5              \t|  0.0            \t|  0.0            \t|\n",
      "|  [LightningModule]ConvNetTrainer.on_validation_epoch_end                                                                                                        \t|  0.0            \t|  5              \t|  0.0            \t|  0.0            \t|\n",
      "|  [Callback]EarlyStopping{'monitor': 'val_loss', 'mode': 'max'}.on_validation_end                                                                                \t|  0.0            \t|  5              \t|  0.0            \t|  0.0            \t|\n",
      "|  [Callback]DeviceStatsMonitor.on_validation_end                                                                                                                 \t|  0.0            \t|  5              \t|  0.0            \t|  0.0            \t|\n",
      "|  [Callback]TQDMProgressBar.on_validation_end                                                                                                                    \t|  0.0            \t|  5              \t|  0.0            \t|  0.0            \t|\n",
      "|  [Callback]ModelSummary.on_validation_end                                                                                                                       \t|  0.0            \t|  5              \t|  0.0            \t|  0.0            \t|\n",
      "|  [Callback]ModelCheckpoint{'monitor': None, 'mode': 'min', 'every_n_train_steps': 0, 'every_n_epochs': 1, 'train_time_interval': None}.on_validation_end        \t|  0.0            \t|  5              \t|  0.0            \t|  0.0            \t|\n",
      "|  [LightningModule]ConvNetTrainer.on_validation_end                                                                                                              \t|  0.0            \t|  5              \t|  0.0            \t|  0.0            \t|\n",
      "|  [Strategy]SingleDeviceStrategy.on_validation_end                                                                                                               \t|  0.0            \t|  5              \t|  0.0            \t|  0.0            \t|\n",
      "|  [LightningModule]ConvNetTrainer.on_validation_model_train                                                                                                      \t|  0.0            \t|  5              \t|  0.0            \t|  0.0            \t|\n",
      "|  [Callback]EarlyStopping{'monitor': 'val_loss', 'mode': 'max'}.on_sanity_check_end                                                                              \t|  0.0            \t|  1              \t|  0.0            \t|  0.0            \t|\n",
      "|  [Callback]DeviceStatsMonitor.on_sanity_check_end                                                                                                               \t|  0.0            \t|  1              \t|  0.0            \t|  0.0            \t|\n",
      "|  [Callback]TQDMProgressBar.on_sanity_check_end                                                                                                                  \t|  0.0            \t|  1              \t|  0.0            \t|  0.0            \t|\n",
      "|  [Callback]ModelSummary.on_sanity_check_end                                                                                                                     \t|  0.0            \t|  1              \t|  0.0            \t|  0.0            \t|\n",
      "|  [Callback]ModelCheckpoint{'monitor': None, 'mode': 'min', 'every_n_train_steps': 0, 'every_n_epochs': 1, 'train_time_interval': None}.on_sanity_check_end      \t|  0.0            \t|  1              \t|  0.0            \t|  0.0            \t|\n",
      "|  [LightningDataModule]MNISTDataModule.train_dataloader                                                                                                          \t|  0.0            \t|  1              \t|  0.0            \t|  0.0            \t|\n",
      "|  [Callback]EarlyStopping{'monitor': 'val_loss', 'mode': 'max'}.on_train_start                                                                                   \t|  0.0            \t|  1              \t|  0.0            \t|  0.0            \t|\n",
      "|  [Callback]DeviceStatsMonitor.on_train_start                                                                                                                    \t|  0.0            \t|  1              \t|  0.0            \t|  0.0            \t|\n",
      "|  [Callback]ModelSummary.on_train_start                                                                                                                          \t|  0.0            \t|  1              \t|  0.0            \t|  0.0            \t|\n",
      "|  [Callback]ModelCheckpoint{'monitor': None, 'mode': 'min', 'every_n_train_steps': 0, 'every_n_epochs': 1, 'train_time_interval': None}.on_train_start           \t|  0.0            \t|  1              \t|  0.0            \t|  0.0            \t|\n",
      "|  [LightningModule]ConvNetTrainer.on_train_start                                                                                                                 \t|  0.0            \t|  1              \t|  0.0            \t|  0.0            \t|\n",
      "|  [Strategy]SingleDeviceStrategy.on_train_start                                                                                                                  \t|  0.0            \t|  1              \t|  0.0            \t|  0.0            \t|\n",
      "|  [Callback]EarlyStopping{'monitor': 'val_loss', 'mode': 'max'}.on_train_epoch_start                                                                             \t|  0.0            \t|  4              \t|  0.0            \t|  0.0            \t|\n",
      "|  [Callback]DeviceStatsMonitor.on_train_epoch_start                                                                                                              \t|  0.0            \t|  4              \t|  0.0            \t|  0.0            \t|\n",
      "|  [Callback]TQDMProgressBar.on_train_epoch_start                                                                                                                 \t|  0.0            \t|  4              \t|  0.0            \t|  0.0            \t|\n",
      "|  [Callback]ModelSummary.on_train_epoch_start                                                                                                                    \t|  0.0            \t|  4              \t|  0.0            \t|  0.0            \t|\n",
      "|  [Callback]ModelCheckpoint{'monitor': None, 'mode': 'min', 'every_n_train_steps': 0, 'every_n_epochs': 1, 'train_time_interval': None}.on_train_epoch_start     \t|  0.0            \t|  4              \t|  0.0            \t|  0.0            \t|\n",
      "|  [LightningModule]ConvNetTrainer.on_train_epoch_start                                                                                                           \t|  0.0            \t|  4              \t|  0.0            \t|  0.0            \t|\n",
      "|  [Callback]ModelCheckpoint{'monitor': None, 'mode': 'min', 'every_n_train_steps': 0, 'every_n_epochs': 1, 'train_time_interval': None}.on_train_batch_start     \t|  0.0            \t|  3000           \t|  0.0            \t|  0.0            \t|\n",
      "|  [LightningModule]ConvNetTrainer.on_train_batch_start                                                                                                           \t|  0.0            \t|  3000           \t|  0.0            \t|  0.0            \t|\n",
      "|  [Strategy]SingleDeviceStrategy.on_train_batch_start                                                                                                            \t|  0.0            \t|  3000           \t|  0.0            \t|  0.0            \t|\n",
      "|  [Callback]TQDMProgressBar.on_before_zero_grad                                                                                                                  \t|  0.0            \t|  3000           \t|  0.0            \t|  0.0            \t|\n",
      "|  [Callback]ModelSummary.on_before_zero_grad                                                                                                                     \t|  0.0            \t|  3000           \t|  0.0            \t|  0.0            \t|\n",
      "|  [Callback]ModelCheckpoint{'monitor': None, 'mode': 'min', 'every_n_train_steps': 0, 'every_n_epochs': 1, 'train_time_interval': None}.on_before_zero_grad      \t|  0.0            \t|  3000           \t|  0.0            \t|  0.0            \t|\n",
      "|  [LightningModule]ConvNetTrainer.on_before_zero_grad                                                                                                            \t|  0.0            \t|  3000           \t|  0.0            \t|  0.0            \t|\n",
      "|  [Callback]DeviceStatsMonitor.on_before_backward                                                                                                                \t|  0.0            \t|  3000           \t|  0.0            \t|  0.0            \t|\n",
      "|  [Callback]TQDMProgressBar.on_before_backward                                                                                                                   \t|  0.0            \t|  3000           \t|  0.0            \t|  0.0            \t|\n",
      "|  [Callback]ModelSummary.on_before_backward                                                                                                                      \t|  0.0            \t|  3000           \t|  0.0            \t|  0.0            \t|\n",
      "|  [LightningModule]ConvNetTrainer.on_before_backward                                                                                                             \t|  0.0            \t|  3000           \t|  0.0            \t|  0.0            \t|\n",
      "|  [Callback]DeviceStatsMonitor.on_after_backward                                                                                                                 \t|  0.0            \t|  3000           \t|  0.0            \t|  0.0            \t|\n",
      "|  [Callback]TQDMProgressBar.on_after_backward                                                                                                                    \t|  0.0            \t|  3000           \t|  0.0            \t|  0.0            \t|\n",
      "|  [Callback]ModelSummary.on_after_backward                                                                                                                       \t|  0.0            \t|  3000           \t|  0.0            \t|  0.0            \t|\n",
      "|  [Callback]ModelCheckpoint{'monitor': None, 'mode': 'min', 'every_n_train_steps': 0, 'every_n_epochs': 1, 'train_time_interval': None}.on_after_backward        \t|  0.0            \t|  3000           \t|  0.0            \t|  0.0            \t|\n",
      "|  [LightningModule]ConvNetTrainer.on_after_backward                                                                                                              \t|  0.0            \t|  3000           \t|  0.0            \t|  0.0            \t|\n",
      "|  [Callback]EarlyStopping{'monitor': 'val_loss', 'mode': 'max'}.on_before_optimizer_step                                                                         \t|  0.0            \t|  3000           \t|  0.0            \t|  0.0            \t|\n",
      "|  [Callback]DeviceStatsMonitor.on_before_optimizer_step                                                                                                          \t|  0.0            \t|  3000           \t|  0.0            \t|  0.0            \t|\n",
      "|  [Callback]ModelSummary.on_before_optimizer_step                                                                                                                \t|  0.0            \t|  3000           \t|  0.0            \t|  0.0            \t|\n",
      "|  [LightningModule]ConvNetTrainer.on_before_optimizer_step                                                                                                       \t|  0.0            \t|  3000           \t|  0.0            \t|  0.0            \t|\n",
      "|  [Callback]ModelSummary.on_train_batch_end                                                                                                                      \t|  0.0            \t|  3000           \t|  0.0            \t|  0.0            \t|\n",
      "|  [LightningModule]ConvNetTrainer.on_train_batch_end                                                                                                             \t|  0.0            \t|  3000           \t|  0.0            \t|  0.0            \t|\n",
      "|  [Callback]DeviceStatsMonitor.on_train_epoch_end                                                                                                                \t|  0.0            \t|  4              \t|  0.0            \t|  0.0            \t|\n",
      "|  [Callback]TQDMProgressBar.on_train_epoch_end                                                                                                                   \t|  0.0            \t|  4              \t|  0.0            \t|  0.0            \t|\n",
      "|  [Callback]ModelSummary.on_train_epoch_end                                                                                                                      \t|  0.0            \t|  4              \t|  0.0            \t|  0.0            \t|\n",
      "|  [LightningModule]ConvNetTrainer.on_train_epoch_end                                                                                                             \t|  0.0            \t|  4              \t|  0.0            \t|  0.0            \t|\n",
      "|  [Callback]EarlyStopping{'monitor': 'val_loss', 'mode': 'max'}.on_train_epoch_end                                                                               \t|  0.0            \t|  4              \t|  0.0            \t|  0.0            \t|\n",
      "|  [LightningDataModule]MNISTDataModule.state_dict                                                                                                                \t|  0.0            \t|  4              \t|  0.0            \t|  0.0            \t|\n",
      "|  [Callback]EarlyStopping{'monitor': 'val_loss', 'mode': 'max'}.on_save_checkpoint                                                                               \t|  0.0            \t|  4              \t|  0.0            \t|  0.0            \t|\n",
      "|  [Callback]DeviceStatsMonitor.on_save_checkpoint                                                                                                                \t|  0.0            \t|  4              \t|  0.0            \t|  0.0            \t|\n",
      "|  [Callback]TQDMProgressBar.on_save_checkpoint                                                                                                                   \t|  0.0            \t|  4              \t|  0.0            \t|  0.0            \t|\n",
      "|  [Callback]ModelSummary.on_save_checkpoint                                                                                                                      \t|  0.0            \t|  4              \t|  0.0            \t|  0.0            \t|\n",
      "|  [Callback]ModelCheckpoint{'monitor': None, 'mode': 'min', 'every_n_train_steps': 0, 'every_n_epochs': 1, 'train_time_interval': None}.on_save_checkpoint       \t|  0.0            \t|  4              \t|  0.0            \t|  0.0            \t|\n",
      "|  [LightningModule]ConvNetTrainer.on_save_checkpoint                                                                                                             \t|  0.0            \t|  4              \t|  0.0            \t|  0.0            \t|\n",
      "|  [Callback]EarlyStopping{'monitor': 'val_loss', 'mode': 'max'}.on_train_end                                                                                     \t|  0.0            \t|  1              \t|  0.0            \t|  0.0            \t|\n",
      "|  [Callback]DeviceStatsMonitor.on_train_end                                                                                                                      \t|  0.0            \t|  1              \t|  0.0            \t|  0.0            \t|\n",
      "|  [Callback]TQDMProgressBar.on_train_end                                                                                                                         \t|  0.0            \t|  1              \t|  0.0            \t|  0.0            \t|\n",
      "|  [Callback]ModelSummary.on_train_end                                                                                                                            \t|  0.0            \t|  1              \t|  0.0            \t|  0.0            \t|\n",
      "|  [Callback]ModelCheckpoint{'monitor': None, 'mode': 'min', 'every_n_train_steps': 0, 'every_n_epochs': 1, 'train_time_interval': None}.on_train_end             \t|  0.0            \t|  1              \t|  0.0            \t|  0.0            \t|\n",
      "|  [LightningModule]ConvNetTrainer.on_train_end                                                                                                                   \t|  0.0            \t|  1              \t|  0.0            \t|  0.0            \t|\n",
      "|  [Strategy]SingleDeviceStrategy.on_train_end                                                                                                                    \t|  0.0            \t|  1              \t|  0.0            \t|  0.0            \t|\n",
      "|  [Callback]EarlyStopping{'monitor': 'val_loss', 'mode': 'max'}.on_fit_end                                                                                       \t|  0.0            \t|  1              \t|  0.0            \t|  0.0            \t|\n",
      "|  [Callback]DeviceStatsMonitor.on_fit_end                                                                                                                        \t|  0.0            \t|  1              \t|  0.0            \t|  0.0            \t|\n",
      "|  [Callback]TQDMProgressBar.on_fit_end                                                                                                                           \t|  0.0            \t|  1              \t|  0.0            \t|  0.0            \t|\n",
      "|  [Callback]ModelSummary.on_fit_end                                                                                                                              \t|  0.0            \t|  1              \t|  0.0            \t|  0.0            \t|\n",
      "|  [Callback]ModelCheckpoint{'monitor': None, 'mode': 'min', 'every_n_train_steps': 0, 'every_n_epochs': 1, 'train_time_interval': None}.on_fit_end               \t|  0.0            \t|  1              \t|  0.0            \t|  0.0            \t|\n",
      "|  [LightningModule]ConvNetTrainer.on_fit_end                                                                                                                     \t|  0.0            \t|  1              \t|  0.0            \t|  0.0            \t|\n",
      "|  [LightningDataModule]MNISTDataModule.teardown                                                                                                                  \t|  0.0            \t|  1              \t|  0.0            \t|  0.0            \t|\n",
      "|  [Callback]EarlyStopping{'monitor': 'val_loss', 'mode': 'max'}.teardown                                                                                         \t|  0.0            \t|  1              \t|  0.0            \t|  0.0            \t|\n",
      "|  [Callback]DeviceStatsMonitor.teardown                                                                                                                          \t|  0.0            \t|  1              \t|  0.0            \t|  0.0            \t|\n",
      "|  [Callback]TQDMProgressBar.teardown                                                                                                                             \t|  0.0            \t|  1              \t|  0.0            \t|  0.0            \t|\n",
      "|  [Callback]ModelSummary.teardown                                                                                                                                \t|  0.0            \t|  1              \t|  0.0            \t|  0.0            \t|\n",
      "|  [Callback]ModelCheckpoint{'monitor': None, 'mode': 'min', 'every_n_train_steps': 0, 'every_n_epochs': 1, 'train_time_interval': None}.teardown                 \t|  0.0            \t|  1              \t|  0.0            \t|  0.0            \t|\n",
      "|  [LightningModule]ConvNetTrainer.teardown                                                                                                                       \t|  0.0            \t|  1              \t|  0.0            \t|  0.0            \t|\n",
      "---------------------------------------------------------------------------------------------------------------------------------------------------------------------------------------------------------------------------------------------------------------------------\n",
      "\n"
     ]
    }
   ],
   "source": [
    "from lightning.pytorch.profilers import AdvancedProfiler\n",
    "from lightning.pytorch.callbacks.early_stopping import EarlyStopping\n",
    "from lightning.pytorch.callbacks import DeviceStatsMonitor\n",
    "\n",
    "## early stopping hook performed after each validation step by default\n",
    "early_stop_callback = EarlyStopping(monitor=\"val_loss\", min_delta=0.00, patience=3, verbose=False, mode=\"max\")\n",
    "## advanced profiler to stream to file\n",
    "# profiler = AdvancedProfiler(dirpath=\".\", filename=\"perf_logs\")\n",
    "\n",
    "# train model\n",
    "model = ConvNetTrainer()\n",
    "model.train()\n",
    "trainer = pl.Trainer(\n",
    "        default_root_dir=\".\",\n",
    "        max_epochs=5,\n",
    "        accelerator='gpu',\n",
    "        devices='auto',\n",
    "        callbacks=[early_stop_callback, DeviceStatsMonitor()],\n",
    "        profiler='simple',      # 'advanced' to see time spent in each function; stream to a file later using AdvancedProfiler\n",
    "        fast_dev_run=False,      # run a quick epoch to test for bugs\n",
    ")\n",
    "trainer.fit(model, datamodule=MNISTDataModule())"
   ]
  },
  {
   "cell_type": "code",
   "execution_count": null,
   "metadata": {},
   "outputs": [],
   "source": [
    "%reload_ext tensorboard\n",
    "%tensorboard --logdir=lightning_logs/"
   ]
  },
  {
   "cell_type": "code",
   "execution_count": null,
   "metadata": {},
   "outputs": [],
   "source": [
    "from lightning.pytorch.utilities.model_summary import ModelSummary\n",
    "\n",
    "summary = ModelSummary(model, max_depth=-1)\n",
    "print(summary)"
   ]
  },
  {
   "cell_type": "code",
   "execution_count": null,
   "metadata": {},
   "outputs": [],
   "source": [
    "# subclass EarlyStopping and override the methods\n",
    "class MyEarlyStopping(EarlyStopping):\n",
    "    def on_validation_end(self, trainer, pl_module):\n",
    "        # override this to disable early stopping at the end of val loop\n",
    "        pass\n",
    "\n",
    "    def on_train_end(self, trainer, pl_module):\n",
    "        # instead, do it at the end of training loop\n",
    "        self._run_early_stopping_check(trainer)"
   ]
  }
 ],
 "metadata": {
  "kernelspec": {
   "display_name": "base",
   "language": "python",
   "name": "python3"
  },
  "language_info": {
   "codemirror_mode": {
    "name": "ipython",
    "version": 3
   },
   "file_extension": ".py",
   "mimetype": "text/x-python",
   "name": "python",
   "nbconvert_exporter": "python",
   "pygments_lexer": "ipython3",
   "version": "3.9.12"
  },
  "orig_nbformat": 4,
  "vscode": {
   "interpreter": {
    "hash": "16f5b46f222e2a3e8d4adbf7141cae37b71ed37616e60735fa5d1164a1bc3ada"
   }
  }
 },
 "nbformat": 4,
 "nbformat_minor": 2
}
