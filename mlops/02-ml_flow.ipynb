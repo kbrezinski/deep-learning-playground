{
 "cells": [
  {
   "cell_type": "code",
   "execution_count": 1,
   "metadata": {},
   "outputs": [],
   "source": [
    "from sklearn import datasets\n",
    "\n",
    "import torch\n",
    "from torch import nn\n",
    "import torch.nn.functional as F\n",
    "from torch.utils.data import DataLoader\n",
    "\n",
    "import lightning.pytorch as pl\n",
    "\n",
    "import warnings\n",
    "warnings.filterwarnings('ignore')"
   ]
  },
  {
   "cell_type": "code",
   "execution_count": 111,
   "metadata": {},
   "outputs": [],
   "source": [
    "from torchmetrics import ExplainedVariance, Accuracy\n",
    "\n",
    "# Define a Conv Classifier\n",
    "class ConvNet(nn.Module):\n",
    "    def __init__(self):\n",
    "        super().__init__()\n",
    "        self.model = nn.Sequential(\n",
    "            nn.Conv2d(1, 32, (3, 3)),\n",
    "            nn.ReLU(),\n",
    "            nn.MaxPool2d((2, 2)),\n",
    "            nn.Flatten(),\n",
    "            nn.LazyLinear(50),\n",
    "            nn.ReLU(),\n",
    "            nn.Dropout(0.2),\n",
    "            nn.Linear(50, 10)\n",
    "        )\n",
    "\n",
    "    def forward(self, x):\n",
    "        return self.model(x)\n",
    "\n",
    "class ConvNetTrainer(pl.LightningModule):\n",
    "    def __init__(self):\n",
    "        super().__init__()\n",
    "        self.save_hyperparameters()\n",
    "        self.model = ConvNet()\n",
    "        \n",
    "        self.accuracy = Accuracy(task=\"multiclass\", num_classes=10)\n",
    "\n",
    "    def forward(self, x):\n",
    "        return self.model(x)\n",
    "    \n",
    "    def training_step(self, batch, batch_idx):\n",
    "        x, y = batch\n",
    "        logits = self.model(x)\n",
    "        loss = F.cross_entropy(logits, y)\n",
    "        predictions = torch.argmax(logits, dim=1)\n",
    "        batch_value = self.accuracy(predictions, y)\n",
    "        self.log(\"train_acc\", batch_value)\n",
    "        return loss\n",
    "\n",
    "    def on_train_epoch_end(self):\n",
    "        self.accuracy.reset()\n",
    "\n",
    "    def test_step(self, batch, batch_idx):\n",
    "        x, y = batch\n",
    "        logits = self.model(x)\n",
    "        test_loss = F.cross_entropy(logits, y)\n",
    "        test_accuracy = torch.sum(torch.argmax(logits, dim=1) == y) / len(y)\n",
    "        self.log(\"test_loss\", test_loss, on_step=False, on_epoch=True, sync_dist=True)\n",
    "        self.log(\"test_acc\", test_accuracy, on_step=False, on_epoch=True, sync_dist=True)\n",
    "    \n",
    "    def validation_step(self, batch, batch_idx):\n",
    "        x, y = batch\n",
    "        logits = self.model(x)\n",
    "        val_loss = F.cross_entropy(logits, y)\n",
    "        val_accuracy = torch.sum(torch.argmax(logits, dim=1) == y) / len(y)\n",
    "        self.log(\"val_loss\", val_loss, on_step=False, on_epoch=True, sync_dist=True)\n",
    "        self.log(\"val_acc\", val_accuracy, on_step=False, on_epoch=True, sync_dist=True)\n",
    "\n",
    "    def configure_optimizers(self):\n",
    "        optimizer = torch.optim.AdamW(self.parameters(), lr=1e-3)\n",
    "        return optimizer\n",
    "        \n",
    "    def predict_step(self, batch, batch_idx):\n",
    "        X, y = batch\n",
    "        return self(X), y"
   ]
  },
  {
   "cell_type": "code",
   "execution_count": 112,
   "metadata": {},
   "outputs": [],
   "source": [
    "import torch.utils.data as data\n",
    "from torchvision.datasets import MNIST\n",
    "from torchvision import transforms\n",
    "\n",
    "class MNISTDataModule(pl.LightningDataModule):\n",
    "    def __init__(self, data_dir: str='.'):\n",
    "        super().__init__()\n",
    "        self.data_dir = data_dir\n",
    "        self.transform = transforms.Compose(\n",
    "            [transforms.ToTensor(),\n",
    "            transforms.Normalize((0.1307,), (0.3081,))])\n",
    "\n",
    "    # called within a single process on CPU\n",
    "    def prepare_data(self):\n",
    "        MNIST(self.data_dir, train=True, download=True)\n",
    "        MNIST(self.data_dir, train=False, download=True)\n",
    "\n",
    "    # automatically called after prepare_data; don't assign state here\n",
    "    def setup(self, stage: str):\n",
    "        if stage == \"fit\":\n",
    "            train_dataset = MNIST(self.data_dir, train=True, transform=self.transform)\n",
    "            train_set_size = int(len(train_dataset) * 0.8)\n",
    "            valid_set_size = len(train_dataset) - train_set_size\n",
    "            self.train_dataset, self.val_dataset = data.random_split(train_dataset, [train_set_size, valid_set_size])\n",
    "        if stage == 'test':\n",
    "            self.test_dataset = MNIST(self.data_dir, train=False, transform=self.transform)\n",
    "        if stage == 'predict':\n",
    "            self.test_dataset = MNIST(self.data_dir, train=False, transform=self.transform)\n",
    "\n",
    "    def train_dataloader(self):\n",
    "        return DataLoader(self.train_dataset, batch_size=64)\n",
    "\n",
    "    def test_dataloader(self):\n",
    "        return DataLoader(self.test_dataset, batch_size=64)\n",
    "\n",
    "    def val_dataloader(self):\n",
    "        return DataLoader(self.val_dataset, batch_size=64)\n",
    "\n",
    "    def predict_dataloader(self):\n",
    "        return DataLoader(self.test_dataset, batch_size=64)"
   ]
  },
  {
   "cell_type": "code",
   "execution_count": null,
   "metadata": {},
   "outputs": [],
   "source": [
    "# load recent checkpoint and eval\n",
    "#model = ConvNetTrainer.load_from_checkpoint(r\"lightning_logs/version_27/checkpoints/epoch=3-step=3000.ckpt\")\n",
    "model = ConvNetTrainer()\n",
    "trainer = pl.Trainer()\n",
    "\n",
    "# [!] predict method not working \n",
    "trainer.test(model, datamodule=MNISTDataModule())"
   ]
  },
  {
   "cell_type": "code",
   "execution_count": 114,
   "metadata": {},
   "outputs": [
    {
     "name": "stderr",
     "output_type": "stream",
     "text": [
      "GPU available: True (cuda), used: True\n",
      "TPU available: False, using: 0 TPU cores\n",
      "IPU available: False, using: 0 IPUs\n",
      "HPU available: False, using: 0 HPUs\n",
      "Missing logger folder: .\\lightning_logs\n",
      "LOCAL_RANK: 0 - CUDA_VISIBLE_DEVICES: [0]\n",
      "\n",
      "  | Name     | Type               | Params\n",
      "------------------------------------------------\n",
      "0 | model    | ConvNet            | 830   \n",
      "1 | accuracy | MulticlassAccuracy | 0     \n",
      "------------------------------------------------\n",
      "830       Trainable params\n",
      "0         Non-trainable params\n",
      "830       Total params\n",
      "0.003     Total estimated model params size (MB)\n"
     ]
    },
    {
     "data": {
      "application/vnd.jupyter.widget-view+json": {
       "model_id": "7ec7c35d0daf48d9af6ba31daf2f8473",
       "version_major": 2,
       "version_minor": 0
      },
      "text/plain": [
       "Sanity Checking: 0it [00:00, ?it/s]"
      ]
     },
     "metadata": {},
     "output_type": "display_data"
    },
    {
     "data": {
      "application/vnd.jupyter.widget-view+json": {
       "model_id": "ebe38852c2e74109bed9d11b06aecaf9",
       "version_major": 2,
       "version_minor": 0
      },
      "text/plain": [
       "Training: 0it [00:00, ?it/s]"
      ]
     },
     "metadata": {},
     "output_type": "display_data"
    },
    {
     "data": {
      "application/vnd.jupyter.widget-view+json": {
       "model_id": "e46ad0e7894a44b3beea938fed9b9cb6",
       "version_major": 2,
       "version_minor": 0
      },
      "text/plain": [
       "Validation: 0it [00:00, ?it/s]"
      ]
     },
     "metadata": {},
     "output_type": "display_data"
    },
    {
     "data": {
      "application/vnd.jupyter.widget-view+json": {
       "model_id": "df1f17cf798d46c988160886a3562430",
       "version_major": 2,
       "version_minor": 0
      },
      "text/plain": [
       "Validation: 0it [00:00, ?it/s]"
      ]
     },
     "metadata": {},
     "output_type": "display_data"
    },
    {
     "data": {
      "application/vnd.jupyter.widget-view+json": {
       "model_id": "9dd925d2f035452c9870e11a262b1055",
       "version_major": 2,
       "version_minor": 0
      },
      "text/plain": [
       "Validation: 0it [00:00, ?it/s]"
      ]
     },
     "metadata": {},
     "output_type": "display_data"
    },
    {
     "data": {
      "application/vnd.jupyter.widget-view+json": {
       "model_id": "e5bb359e403946538512bd3f61bcade6",
       "version_major": 2,
       "version_minor": 0
      },
      "text/plain": [
       "Validation: 0it [00:00, ?it/s]"
      ]
     },
     "metadata": {},
     "output_type": "display_data"
    }
   ],
   "source": [
    "from lightning.pytorch.profilers import AdvancedProfiler\n",
    "from lightning.pytorch.callbacks.early_stopping import EarlyStopping\n",
    "from lightning.pytorch.callbacks import DeviceStatsMonitor\n",
    "\n",
    "## early stopping hook performed after each validation step by default\n",
    "early_stop_callback = EarlyStopping(monitor=\"val_loss\", min_delta=0.00, patience=3, verbose=False, mode=\"max\")\n",
    "\n",
    "# train model\n",
    "model = ConvNetTrainer()\n",
    "model.train()\n",
    "trainer = pl.Trainer(\n",
    "        default_root_dir=\".\",\n",
    "        accelerator='auto',\n",
    "        devices='auto',\n",
    "        callbacks=[early_stop_callback],\n",
    "        fast_dev_run=False,\n",
    ")\n",
    "trainer.fit(model, datamodule=MNISTDataModule())"
   ]
  },
  {
   "cell_type": "code",
   "execution_count": 115,
   "metadata": {},
   "outputs": [
    {
     "name": "stderr",
     "output_type": "stream",
     "text": [
      "GPU available: True (cuda), used: True\n",
      "TPU available: False, using: 0 TPU cores\n",
      "IPU available: False, using: 0 IPUs\n",
      "HPU available: False, using: 0 HPUs\n",
      "LOCAL_RANK: 0 - CUDA_VISIBLE_DEVICES: [0]\n"
     ]
    },
    {
     "data": {
      "application/vnd.jupyter.widget-view+json": {
       "model_id": "dd386dda89d740bca5605ba287118e30",
       "version_major": 2,
       "version_minor": 0
      },
      "text/plain": [
       "Testing: 0it [00:00, ?it/s]"
      ]
     },
     "metadata": {},
     "output_type": "display_data"
    },
    {
     "data": {
      "text/html": [
       "<pre style=\"white-space:pre;overflow-x:auto;line-height:normal;font-family:Menlo,'DejaVu Sans Mono',consolas,'Courier New',monospace\">┏━━━━━━━━━━━━━━━━━━━━━━━━━━━┳━━━━━━━━━━━━━━━━━━━━━━━━━━━┓\n",
       "┃<span style=\"font-weight: bold\">        Test metric        </span>┃<span style=\"font-weight: bold\">       DataLoader 0        </span>┃\n",
       "┡━━━━━━━━━━━━━━━━━━━━━━━━━━━╇━━━━━━━━━━━━━━━━━━━━━━━━━━━┩\n",
       "│<span style=\"color: #008080; text-decoration-color: #008080\">         test_acc          </span>│<span style=\"color: #800080; text-decoration-color: #800080\">    0.9822999835014343     </span>│\n",
       "│<span style=\"color: #008080; text-decoration-color: #008080\">         test_loss         </span>│<span style=\"color: #800080; text-decoration-color: #800080\">   0.060705818235874176    </span>│\n",
       "└───────────────────────────┴───────────────────────────┘\n",
       "</pre>\n"
      ],
      "text/plain": [
       "┏━━━━━━━━━━━━━━━━━━━━━━━━━━━┳━━━━━━━━━━━━━━━━━━━━━━━━━━━┓\n",
       "┃\u001b[1m \u001b[0m\u001b[1m       Test metric       \u001b[0m\u001b[1m \u001b[0m┃\u001b[1m \u001b[0m\u001b[1m      DataLoader 0       \u001b[0m\u001b[1m \u001b[0m┃\n",
       "┡━━━━━━━━━━━━━━━━━━━━━━━━━━━╇━━━━━━━━━━━━━━━━━━━━━━━━━━━┩\n",
       "│\u001b[36m \u001b[0m\u001b[36m        test_acc         \u001b[0m\u001b[36m \u001b[0m│\u001b[35m \u001b[0m\u001b[35m   0.9822999835014343    \u001b[0m\u001b[35m \u001b[0m│\n",
       "│\u001b[36m \u001b[0m\u001b[36m        test_loss        \u001b[0m\u001b[36m \u001b[0m│\u001b[35m \u001b[0m\u001b[35m  0.060705818235874176   \u001b[0m\u001b[35m \u001b[0m│\n",
       "└───────────────────────────┴───────────────────────────┘\n"
      ]
     },
     "metadata": {},
     "output_type": "display_data"
    }
   ],
   "source": [
    "predictor = pl.Trainer()\n",
    "predictions = predictor.test(model, datamodule=MNISTDataModule())"
   ]
  },
  {
   "cell_type": "code",
   "execution_count": 116,
   "metadata": {},
   "outputs": [],
   "source": [
    "data_module = MNISTDataModule()\n",
    "data_module.setup(stage=\"predict\")\n",
    "dataloader = data_module.predict_dataloader()"
   ]
  },
  {
   "cell_type": "code",
   "execution_count": 117,
   "metadata": {},
   "outputs": [],
   "source": [
    "# shape 157 x (64, 10) = min_batches x (batch_size, num_classes)\n",
    "predictions = []\n",
    "labels = []\n",
    "for batch in dataloader:\n",
    "    X, y = batch\n",
    "    predictions.append(model(X))\n",
    "    labels.append(y)\n",
    "predictions = torch.cat(predictions)\n",
    "predictions = torch.argmax(predictions, dim=1)\n",
    "labels = torch.cat(labels)"
   ]
  },
  {
   "cell_type": "code",
   "execution_count": 130,
   "metadata": {},
   "outputs": [],
   "source": [
    "from sklearn.metrics import precision_recall_fscore_support\n",
    "\n",
    "# Performance\n",
    "metrics = {\"overall\": {}, \"class\": {}}"
   ]
  },
  {
   "cell_type": "code",
   "execution_count": 131,
   "metadata": {},
   "outputs": [],
   "source": [
    "overall_metrics = precision_recall_fscore_support(labels, predictions, average=\"macro\")\n",
    "metrics[\"overall\"][\"precision\"] = overall_metrics[0]\n",
    "metrics[\"overall\"][\"recall\"] = overall_metrics[1]\n",
    "metrics[\"overall\"][\"f1\"] = overall_metrics[2]"
   ]
  },
  {
   "cell_type": "code",
   "execution_count": 132,
   "metadata": {},
   "outputs": [],
   "source": [
    "class_metrics = precision_recall_fscore_support(labels, predictions, average=None)\n",
    "for i in range(10):  \n",
    "    metrics[\"class\"][i] = {\n",
    "        \"precision\": class_metrics[0][i],\n",
    "        \"recall\": class_metrics[1][i],\n",
    "        \"f1\": class_metrics[2][i],\n",
    "    }"
   ]
  },
  {
   "cell_type": "code",
   "execution_count": 126,
   "metadata": {},
   "outputs": [
    {
     "data": {
      "text/plain": [
       "OrderedDict([(0,\n",
       "              {'precision': array([0.96059113, 0.98003472, 0.96960784, 0.97616683, 0.96603397,\n",
       "                      0.98526077, 0.98427673, 0.96157541, 0.98723404, 0.97368421]),\n",
       "               'recall': array([0.99489796, 0.99471366, 0.95833333, 0.97326733, 0.98472505,\n",
       "                      0.97421525, 0.98016701, 0.97373541, 0.95277207, 0.95341923]),\n",
       "               'f1': array([0.97744361, 0.98731963, 0.96393762, 0.97471492, 0.97528996,\n",
       "                      0.97970688, 0.98221757, 0.96761721, 0.96969697, 0.96344517])}),\n",
       "             (1,\n",
       "              {'precision': array([0.96059113, 0.98003472, 0.96960784, 0.97616683, 0.96603397,\n",
       "                      0.98526077, 0.98427673, 0.96157541, 0.98723404, 0.97368421]),\n",
       "               'recall': array([0.99489796, 0.99471366, 0.95833333, 0.97326733, 0.98472505,\n",
       "                      0.97421525, 0.98016701, 0.97373541, 0.95277207, 0.95341923]),\n",
       "               'f1': array([0.97744361, 0.98731963, 0.96393762, 0.97471492, 0.97528996,\n",
       "                      0.97970688, 0.98221757, 0.96761721, 0.96969697, 0.96344517])}),\n",
       "             (2,\n",
       "              {'precision': array([0.96059113, 0.98003472, 0.96960784, 0.97616683, 0.96603397,\n",
       "                      0.98526077, 0.98427673, 0.96157541, 0.98723404, 0.97368421]),\n",
       "               'recall': array([0.99489796, 0.99471366, 0.95833333, 0.97326733, 0.98472505,\n",
       "                      0.97421525, 0.98016701, 0.97373541, 0.95277207, 0.95341923]),\n",
       "               'f1': array([0.97744361, 0.98731963, 0.96393762, 0.97471492, 0.97528996,\n",
       "                      0.97970688, 0.98221757, 0.96761721, 0.96969697, 0.96344517])}),\n",
       "             (3,\n",
       "              {'precision': array([0.96059113, 0.98003472, 0.96960784, 0.97616683, 0.96603397,\n",
       "                      0.98526077, 0.98427673, 0.96157541, 0.98723404, 0.97368421]),\n",
       "               'recall': array([0.99489796, 0.99471366, 0.95833333, 0.97326733, 0.98472505,\n",
       "                      0.97421525, 0.98016701, 0.97373541, 0.95277207, 0.95341923]),\n",
       "               'f1': array([0.97744361, 0.98731963, 0.96393762, 0.97471492, 0.97528996,\n",
       "                      0.97970688, 0.98221757, 0.96761721, 0.96969697, 0.96344517])}),\n",
       "             (4,\n",
       "              {'precision': array([0.96059113, 0.98003472, 0.96960784, 0.97616683, 0.96603397,\n",
       "                      0.98526077, 0.98427673, 0.96157541, 0.98723404, 0.97368421]),\n",
       "               'recall': array([0.99489796, 0.99471366, 0.95833333, 0.97326733, 0.98472505,\n",
       "                      0.97421525, 0.98016701, 0.97373541, 0.95277207, 0.95341923]),\n",
       "               'f1': array([0.97744361, 0.98731963, 0.96393762, 0.97471492, 0.97528996,\n",
       "                      0.97970688, 0.98221757, 0.96761721, 0.96969697, 0.96344517])}),\n",
       "             (5,\n",
       "              {'precision': array([0.96059113, 0.98003472, 0.96960784, 0.97616683, 0.96603397,\n",
       "                      0.98526077, 0.98427673, 0.96157541, 0.98723404, 0.97368421]),\n",
       "               'recall': array([0.99489796, 0.99471366, 0.95833333, 0.97326733, 0.98472505,\n",
       "                      0.97421525, 0.98016701, 0.97373541, 0.95277207, 0.95341923]),\n",
       "               'f1': array([0.97744361, 0.98731963, 0.96393762, 0.97471492, 0.97528996,\n",
       "                      0.97970688, 0.98221757, 0.96761721, 0.96969697, 0.96344517])}),\n",
       "             (6,\n",
       "              {'precision': array([0.96059113, 0.98003472, 0.96960784, 0.97616683, 0.96603397,\n",
       "                      0.98526077, 0.98427673, 0.96157541, 0.98723404, 0.97368421]),\n",
       "               'recall': array([0.99489796, 0.99471366, 0.95833333, 0.97326733, 0.98472505,\n",
       "                      0.97421525, 0.98016701, 0.97373541, 0.95277207, 0.95341923]),\n",
       "               'f1': array([0.97744361, 0.98731963, 0.96393762, 0.97471492, 0.97528996,\n",
       "                      0.97970688, 0.98221757, 0.96761721, 0.96969697, 0.96344517])}),\n",
       "             (7,\n",
       "              {'precision': array([0.96059113, 0.98003472, 0.96960784, 0.97616683, 0.96603397,\n",
       "                      0.98526077, 0.98427673, 0.96157541, 0.98723404, 0.97368421]),\n",
       "               'recall': array([0.99489796, 0.99471366, 0.95833333, 0.97326733, 0.98472505,\n",
       "                      0.97421525, 0.98016701, 0.97373541, 0.95277207, 0.95341923]),\n",
       "               'f1': array([0.97744361, 0.98731963, 0.96393762, 0.97471492, 0.97528996,\n",
       "                      0.97970688, 0.98221757, 0.96761721, 0.96969697, 0.96344517])}),\n",
       "             (8,\n",
       "              {'precision': array([0.96059113, 0.98003472, 0.96960784, 0.97616683, 0.96603397,\n",
       "                      0.98526077, 0.98427673, 0.96157541, 0.98723404, 0.97368421]),\n",
       "               'recall': array([0.99489796, 0.99471366, 0.95833333, 0.97326733, 0.98472505,\n",
       "                      0.97421525, 0.98016701, 0.97373541, 0.95277207, 0.95341923]),\n",
       "               'f1': array([0.97744361, 0.98731963, 0.96393762, 0.97471492, 0.97528996,\n",
       "                      0.97970688, 0.98221757, 0.96761721, 0.96969697, 0.96344517])}),\n",
       "             (9,\n",
       "              {'precision': array([0.96059113, 0.98003472, 0.96960784, 0.97616683, 0.96603397,\n",
       "                      0.98526077, 0.98427673, 0.96157541, 0.98723404, 0.97368421]),\n",
       "               'recall': array([0.99489796, 0.99471366, 0.95833333, 0.97326733, 0.98472505,\n",
       "                      0.97421525, 0.98016701, 0.97373541, 0.95277207, 0.95341923]),\n",
       "               'f1': array([0.97744361, 0.98731963, 0.96393762, 0.97471492, 0.97528996,\n",
       "                      0.97970688, 0.98221757, 0.96761721, 0.96969697, 0.96344517])}),\n",
       "             ('key', <function __main__.<lambda>(t)>)])"
      ]
     },
     "execution_count": 126,
     "metadata": {},
     "output_type": "execute_result"
    }
   ],
   "source": [
    "import json\n",
    "from collections import OrderedDict\n",
    "sorted_metrics = OrderedDict(sorted(metrics['class'].items()), key=lambda t: t[1]['f1'])\n",
    "sorted_metrics"
   ]
  },
  {
   "cell_type": "code",
   "execution_count": null,
   "metadata": {},
   "outputs": [],
   "source": []
  }
 ],
 "metadata": {
  "kernelspec": {
   "display_name": "base",
   "language": "python",
   "name": "python3"
  },
  "language_info": {
   "codemirror_mode": {
    "name": "ipython",
    "version": 3
   },
   "file_extension": ".py",
   "mimetype": "text/x-python",
   "name": "python",
   "nbconvert_exporter": "python",
   "pygments_lexer": "ipython3",
   "version": "3.9.12"
  },
  "orig_nbformat": 4,
  "vscode": {
   "interpreter": {
    "hash": "16f5b46f222e2a3e8d4adbf7141cae37b71ed37616e60735fa5d1164a1bc3ada"
   }
  }
 },
 "nbformat": 4,
 "nbformat_minor": 2
}
