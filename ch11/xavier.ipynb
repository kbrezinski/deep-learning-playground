{
 "cells": [
  {
   "cell_type": "code",
   "execution_count": 18,
   "metadata": {},
   "outputs": [],
   "source": [
    "import torch\n",
    "from typing import Tuple\n",
    "\n",
    "Tensor = torch.Tensor"
   ]
  },
  {
   "cell_type": "code",
   "execution_count": 10,
   "metadata": {},
   "outputs": [],
   "source": [
    "w1 = torch.randn(10, 5)\n",
    "w2 = torch.randn(5, 20)"
   ]
  },
  {
   "cell_type": "code",
   "execution_count": 78,
   "metadata": {},
   "outputs": [
    {
     "data": {
      "text/plain": [
       "tensor([[ 0.0010, -0.0118],\n",
       "        [ 0.0013, -0.0107],\n",
       "        [-0.0229, -0.0746],\n",
       "        [ 0.0106,  0.0086],\n",
       "        [ 0.0575, -0.0500],\n",
       "        [ 0.0769,  0.0689],\n",
       "        [ 0.0602, -0.0463],\n",
       "        [ 0.0072, -0.0308],\n",
       "        [-0.0562, -0.0250],\n",
       "        [ 0.0054, -0.0005],\n",
       "        [ 0.0635,  0.0021],\n",
       "        [ 0.0497,  0.0099],\n",
       "        [-0.0169, -0.0020],\n",
       "        [ 0.0642, -0.0352],\n",
       "        [-0.0771,  0.0707],\n",
       "        [ 0.0352,  0.0380],\n",
       "        [-0.0376,  0.0750],\n",
       "        [ 0.0317, -0.0774],\n",
       "        [ 0.0609, -0.0241],\n",
       "        [ 0.0689,  0.0220],\n",
       "        [-0.0470, -0.0002],\n",
       "        [-0.0635, -0.0768],\n",
       "        [ 0.0175, -0.0731],\n",
       "        [ 0.0610, -0.0566],\n",
       "        [-0.0336, -0.0663],\n",
       "        [ 0.0463,  0.0428],\n",
       "        [ 0.0361,  0.0369],\n",
       "        [-0.0042,  0.0377],\n",
       "        [ 0.0468,  0.0330],\n",
       "        [ 0.0548,  0.0662],\n",
       "        [-0.0497, -0.0424],\n",
       "        [ 0.0371,  0.0605],\n",
       "        [ 0.0019,  0.0130],\n",
       "        [ 0.0735, -0.0194],\n",
       "        [-0.0786, -0.0406],\n",
       "        [ 0.0250,  0.0392],\n",
       "        [ 0.0319,  0.0319],\n",
       "        [-0.0784,  0.0117],\n",
       "        [ 0.0259, -0.0597],\n",
       "        [ 0.0167,  0.0090]])"
      ]
     },
     "execution_count": 78,
     "metadata": {},
     "output_type": "execute_result"
    }
   ],
   "source": [
    "def xavier_init(dims=Tuple[int, int], random='uniform') -> Tensor:\n",
    "    \n",
    "    assert random in ('uniform', 'normal'), f\"{random} is not supported, use 'uniform' or 'normal'\"\n",
    "    \n",
    "    # create randomized weight vector\n",
    "    if random == \"normal\":\n",
    "        w = torch.normal(mean=0, std=1e-2, size=dims)\n",
    "    else:\n",
    "        w = torch.empty(dims).uniform_(-0.5, 0.5)\n",
    "    \n",
    "    # scale is number of inputs to the layer dim=0\n",
    "    scale = (1 / w.shape[0]) ** (0.5)\n",
    "    \n",
    "    return w * scale\n",
    "\n",
    "xavier_init((40, 2), random='uniform')"
   ]
  },
  {
   "cell_type": "code",
   "execution_count": null,
   "metadata": {},
   "outputs": [],
   "source": []
  }
 ],
 "metadata": {
  "kernelspec": {
   "display_name": "Python 3",
   "language": "python",
   "name": "python3"
  },
  "language_info": {
   "codemirror_mode": {
    "name": "ipython",
    "version": 3
   },
   "file_extension": ".py",
   "mimetype": "text/x-python",
   "name": "python",
   "nbconvert_exporter": "python",
   "pygments_lexer": "ipython3",
   "version": "3.7.0"
  }
 },
 "nbformat": 4,
 "nbformat_minor": 4
}
